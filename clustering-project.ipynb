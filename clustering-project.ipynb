{
 "cells": [
  {
   "cell_type": "markdown",
   "id": "54e5c8d9",
   "metadata": {
    "heading_collapsed": true
   },
   "source": [
    "# Bibliotecas"
   ]
  },
  {
   "cell_type": "code",
   "execution_count": 1,
   "id": "fe0fea45",
   "metadata": {
    "ExecuteTime": {
     "end_time": "2023-03-03T00:09:10.266556Z",
     "start_time": "2023-03-03T00:08:59.226711Z"
    },
    "hidden": true
   },
   "outputs": [],
   "source": [
    "import pandas as pd\n",
    "import numpy as np\n",
    "\n",
    "from datetime import datetime\n",
    "\n",
    "import seaborn as sns\n",
    "import matplotlib.pyplot as plt\n",
    "from matplotlib.gridspec import GridSpec\n",
    "from IPython.core.display import HTML\n",
    "\n",
    "from sklearn.preprocessing import MinMaxScaler\n",
    "from sklearn.cluster import KMeans\n",
    "\n",
    "from functools import reduce\n",
    "import pickle\n",
    "\n",
    "import warnings\n",
    "warnings.filterwarnings('ignore')"
   ]
  },
  {
   "cell_type": "markdown",
   "id": "11f116a6",
   "metadata": {
    "heading_collapsed": true
   },
   "source": [
    "# Funções auxiliares"
   ]
  },
  {
   "cell_type": "code",
   "execution_count": 2,
   "id": "956351ee",
   "metadata": {
    "ExecuteTime": {
     "end_time": "2023-03-03T00:09:10.385595Z",
     "start_time": "2023-03-03T00:09:10.273599Z"
    },
    "hidden": true
   },
   "outputs": [
    {
     "data": {
      "text/html": [],
      "text/plain": [
       "<IPython.core.display.HTML object>"
      ]
     },
     "metadata": {},
     "output_type": "display_data"
    }
   ],
   "source": [
    "def show_null(df):\n",
    "    null_columns = (df.isnull().sum(axis=0)/len(df)\n",
    "                    ).sort_values(ascending=False).index\n",
    "\n",
    "    null_data = pd.concat([df.isnull().sum(axis=0),\n",
    "                           (df.isnull().sum(axis=0)/len(df)\n",
    "                            ).sort_values(ascending=False),\n",
    "                           df.loc[:, df.columns.isin(list(null_columns))].dtypes],\n",
    "                          axis=1)\n",
    "\n",
    "    null_data = null_data.rename(columns={0: '#',\n",
    "                                          1: '% null',\n",
    "                                          2: 'type'}).sort_values(ascending=False,\n",
    "                                                                  by='% null')\n",
    "\n",
    "    return null_data\n",
    "\n",
    "\n",
    "def plot_num(df, feature):\n",
    "    fig = plt.figure(figsize=(12, 8))\n",
    "    gs = GridSpec(1, 2)\n",
    "    sns.boxplot(y=feature, data=df, color='firebrick',\n",
    "                ax=fig.add_subplot(gs[0, 0]))\n",
    "    plt.ylabel(feature)\n",
    "    sns.stripplot(y=df[feature], color='darkcyan',\n",
    "                  ax=fig.add_subplot(gs[0, 1]))\n",
    "    plt.ylabel(None)\n",
    "    plt.show()\n",
    "\n",
    "\n",
    "def plot_cat(df, feature):\n",
    "    fig = plt.figure(figsize=(12, 8))\n",
    "    ax = sns.countplot(data=df, x=feature)\n",
    "    for p in ax.patches:\n",
    "\n",
    "        ax.annotate(f'\\n{p.get_height()}',\n",
    "                    (p.get_x()+0.4, p.get_height()+5),\n",
    "                    ha='center',\n",
    "                    color='black')\n",
    "\n",
    "    plt.xlabel('\\n' + feature)\n",
    "    plt.ylabel('Quantidade de Clientes')\n",
    "    plt.show()\n",
    "\n",
    "\n",
    "def scaler(df):\n",
    "    df2 = df.copy()\n",
    "    for column in df2:\n",
    "        minimo = df2[column].min()\n",
    "        maximo = df2[column].max()\n",
    "        df2[column] = (df[column] - minimo)/(maximo - minimo)\n",
    "    return df2\n",
    "\n",
    "\n",
    "def jupyter_settings():\n",
    "    %matplotlib inline\n",
    "    plt.style.use('bmh')\n",
    "    plt.rcParams['figure.figsize'] = [12, 6]\n",
    "    plt.rcParams['font.size'] = 20\n",
    "    display(HTML(''))\n",
    "    pd.options.display.max_columns = None\n",
    "    pd.options.display.max_rows = None\n",
    "    pd.set_option('display.expand_frame_repr', False)\n",
    "    sns.set()\n",
    "    pd.set_option('display.max_columns', 30)\n",
    "    pd.set_option('display.max_rows', 30)\n",
    "\n",
    "\n",
    "jupyter_settings()"
   ]
  },
  {
   "cell_type": "markdown",
   "id": "e1b0736d",
   "metadata": {
    "heading_collapsed": true
   },
   "source": [
    "# Carregamento dos dados"
   ]
  },
  {
   "cell_type": "code",
   "execution_count": 3,
   "id": "16bc71e7",
   "metadata": {
    "ExecuteTime": {
     "end_time": "2023-03-03T00:09:10.431848Z",
     "start_time": "2023-03-03T00:09:10.392726Z"
    },
    "hidden": true
   },
   "outputs": [],
   "source": [
    "df = pd.read_csv('data/marketing_campaign.csv', delimiter='\\t')"
   ]
  },
  {
   "cell_type": "code",
   "execution_count": 4,
   "id": "51b85de7",
   "metadata": {
    "ExecuteTime": {
     "end_time": "2023-03-03T00:09:10.486010Z",
     "start_time": "2023-03-03T00:09:10.435507Z"
    },
    "hidden": true
   },
   "outputs": [
    {
     "data": {
      "text/html": [
       "<div>\n",
       "<style scoped>\n",
       "    .dataframe tbody tr th:only-of-type {\n",
       "        vertical-align: middle;\n",
       "    }\n",
       "\n",
       "    .dataframe tbody tr th {\n",
       "        vertical-align: top;\n",
       "    }\n",
       "\n",
       "    .dataframe thead th {\n",
       "        text-align: right;\n",
       "    }\n",
       "</style>\n",
       "<table border=\"1\" class=\"dataframe\">\n",
       "  <thead>\n",
       "    <tr style=\"text-align: right;\">\n",
       "      <th></th>\n",
       "      <th>ID</th>\n",
       "      <th>Year_Birth</th>\n",
       "      <th>Education</th>\n",
       "      <th>Marital_Status</th>\n",
       "      <th>Income</th>\n",
       "      <th>Kidhome</th>\n",
       "      <th>Teenhome</th>\n",
       "      <th>Dt_Customer</th>\n",
       "      <th>Recency</th>\n",
       "      <th>MntWines</th>\n",
       "      <th>MntFruits</th>\n",
       "      <th>MntMeatProducts</th>\n",
       "      <th>MntFishProducts</th>\n",
       "      <th>MntSweetProducts</th>\n",
       "      <th>MntGoldProds</th>\n",
       "      <th>NumDealsPurchases</th>\n",
       "      <th>NumWebPurchases</th>\n",
       "      <th>NumCatalogPurchases</th>\n",
       "      <th>NumStorePurchases</th>\n",
       "      <th>NumWebVisitsMonth</th>\n",
       "      <th>AcceptedCmp3</th>\n",
       "      <th>AcceptedCmp4</th>\n",
       "      <th>AcceptedCmp5</th>\n",
       "      <th>AcceptedCmp1</th>\n",
       "      <th>AcceptedCmp2</th>\n",
       "      <th>Complain</th>\n",
       "      <th>Z_CostContact</th>\n",
       "      <th>Z_Revenue</th>\n",
       "      <th>Response</th>\n",
       "    </tr>\n",
       "  </thead>\n",
       "  <tbody>\n",
       "    <tr>\n",
       "      <th>0</th>\n",
       "      <td>5524</td>\n",
       "      <td>1957</td>\n",
       "      <td>Graduation</td>\n",
       "      <td>Single</td>\n",
       "      <td>58138.0</td>\n",
       "      <td>0</td>\n",
       "      <td>0</td>\n",
       "      <td>04-09-2012</td>\n",
       "      <td>58</td>\n",
       "      <td>635</td>\n",
       "      <td>88</td>\n",
       "      <td>546</td>\n",
       "      <td>172</td>\n",
       "      <td>88</td>\n",
       "      <td>88</td>\n",
       "      <td>3</td>\n",
       "      <td>8</td>\n",
       "      <td>10</td>\n",
       "      <td>4</td>\n",
       "      <td>7</td>\n",
       "      <td>0</td>\n",
       "      <td>0</td>\n",
       "      <td>0</td>\n",
       "      <td>0</td>\n",
       "      <td>0</td>\n",
       "      <td>0</td>\n",
       "      <td>3</td>\n",
       "      <td>11</td>\n",
       "      <td>1</td>\n",
       "    </tr>\n",
       "    <tr>\n",
       "      <th>1</th>\n",
       "      <td>2174</td>\n",
       "      <td>1954</td>\n",
       "      <td>Graduation</td>\n",
       "      <td>Single</td>\n",
       "      <td>46344.0</td>\n",
       "      <td>1</td>\n",
       "      <td>1</td>\n",
       "      <td>08-03-2014</td>\n",
       "      <td>38</td>\n",
       "      <td>11</td>\n",
       "      <td>1</td>\n",
       "      <td>6</td>\n",
       "      <td>2</td>\n",
       "      <td>1</td>\n",
       "      <td>6</td>\n",
       "      <td>2</td>\n",
       "      <td>1</td>\n",
       "      <td>1</td>\n",
       "      <td>2</td>\n",
       "      <td>5</td>\n",
       "      <td>0</td>\n",
       "      <td>0</td>\n",
       "      <td>0</td>\n",
       "      <td>0</td>\n",
       "      <td>0</td>\n",
       "      <td>0</td>\n",
       "      <td>3</td>\n",
       "      <td>11</td>\n",
       "      <td>0</td>\n",
       "    </tr>\n",
       "    <tr>\n",
       "      <th>2</th>\n",
       "      <td>4141</td>\n",
       "      <td>1965</td>\n",
       "      <td>Graduation</td>\n",
       "      <td>Together</td>\n",
       "      <td>71613.0</td>\n",
       "      <td>0</td>\n",
       "      <td>0</td>\n",
       "      <td>21-08-2013</td>\n",
       "      <td>26</td>\n",
       "      <td>426</td>\n",
       "      <td>49</td>\n",
       "      <td>127</td>\n",
       "      <td>111</td>\n",
       "      <td>21</td>\n",
       "      <td>42</td>\n",
       "      <td>1</td>\n",
       "      <td>8</td>\n",
       "      <td>2</td>\n",
       "      <td>10</td>\n",
       "      <td>4</td>\n",
       "      <td>0</td>\n",
       "      <td>0</td>\n",
       "      <td>0</td>\n",
       "      <td>0</td>\n",
       "      <td>0</td>\n",
       "      <td>0</td>\n",
       "      <td>3</td>\n",
       "      <td>11</td>\n",
       "      <td>0</td>\n",
       "    </tr>\n",
       "    <tr>\n",
       "      <th>3</th>\n",
       "      <td>6182</td>\n",
       "      <td>1984</td>\n",
       "      <td>Graduation</td>\n",
       "      <td>Together</td>\n",
       "      <td>26646.0</td>\n",
       "      <td>1</td>\n",
       "      <td>0</td>\n",
       "      <td>10-02-2014</td>\n",
       "      <td>26</td>\n",
       "      <td>11</td>\n",
       "      <td>4</td>\n",
       "      <td>20</td>\n",
       "      <td>10</td>\n",
       "      <td>3</td>\n",
       "      <td>5</td>\n",
       "      <td>2</td>\n",
       "      <td>2</td>\n",
       "      <td>0</td>\n",
       "      <td>4</td>\n",
       "      <td>6</td>\n",
       "      <td>0</td>\n",
       "      <td>0</td>\n",
       "      <td>0</td>\n",
       "      <td>0</td>\n",
       "      <td>0</td>\n",
       "      <td>0</td>\n",
       "      <td>3</td>\n",
       "      <td>11</td>\n",
       "      <td>0</td>\n",
       "    </tr>\n",
       "    <tr>\n",
       "      <th>4</th>\n",
       "      <td>5324</td>\n",
       "      <td>1981</td>\n",
       "      <td>PhD</td>\n",
       "      <td>Married</td>\n",
       "      <td>58293.0</td>\n",
       "      <td>1</td>\n",
       "      <td>0</td>\n",
       "      <td>19-01-2014</td>\n",
       "      <td>94</td>\n",
       "      <td>173</td>\n",
       "      <td>43</td>\n",
       "      <td>118</td>\n",
       "      <td>46</td>\n",
       "      <td>27</td>\n",
       "      <td>15</td>\n",
       "      <td>5</td>\n",
       "      <td>5</td>\n",
       "      <td>3</td>\n",
       "      <td>6</td>\n",
       "      <td>5</td>\n",
       "      <td>0</td>\n",
       "      <td>0</td>\n",
       "      <td>0</td>\n",
       "      <td>0</td>\n",
       "      <td>0</td>\n",
       "      <td>0</td>\n",
       "      <td>3</td>\n",
       "      <td>11</td>\n",
       "      <td>0</td>\n",
       "    </tr>\n",
       "  </tbody>\n",
       "</table>\n",
       "</div>"
      ],
      "text/plain": [
       "     ID  Year_Birth   Education Marital_Status   Income  Kidhome  Teenhome Dt_Customer  Recency  MntWines  MntFruits  MntMeatProducts  MntFishProducts  MntSweetProducts  MntGoldProds  NumDealsPurchases  NumWebPurchases  NumCatalogPurchases  NumStorePurchases  NumWebVisitsMonth  AcceptedCmp3  AcceptedCmp4  AcceptedCmp5  AcceptedCmp1  AcceptedCmp2  Complain  Z_CostContact  Z_Revenue  Response\n",
       "0  5524        1957  Graduation         Single  58138.0        0         0  04-09-2012       58       635         88              546              172                88            88                  3                8                   10                  4                  7             0             0             0             0             0         0              3         11         1\n",
       "1  2174        1954  Graduation         Single  46344.0        1         1  08-03-2014       38        11          1                6                2                 1             6                  2                1                    1                  2                  5             0             0             0             0             0         0              3         11         0\n",
       "2  4141        1965  Graduation       Together  71613.0        0         0  21-08-2013       26       426         49              127              111                21            42                  1                8                    2                 10                  4             0             0             0             0             0         0              3         11         0\n",
       "3  6182        1984  Graduation       Together  26646.0        1         0  10-02-2014       26        11          4               20               10                 3             5                  2                2                    0                  4                  6             0             0             0             0             0         0              3         11         0\n",
       "4  5324        1981         PhD        Married  58293.0        1         0  19-01-2014       94       173         43              118               46                27            15                  5                5                    3                  6                  5             0             0             0             0             0         0              3         11         0"
      ]
     },
     "execution_count": 4,
     "metadata": {},
     "output_type": "execute_result"
    }
   ],
   "source": [
    "df.head()"
   ]
  },
  {
   "cell_type": "markdown",
   "id": "7379d545",
   "metadata": {
    "heading_collapsed": true
   },
   "source": [
    "# Descrição dos dados"
   ]
  },
  {
   "cell_type": "markdown",
   "id": "eb385a97",
   "metadata": {
    "hidden": true
   },
   "source": [
    "Coluna | Descrição\n",
    "-------| --------\n",
    "ID | Identificador do cliente\n",
    "Year_Birth | Ano de nascimento do cliente\n",
    "Education| Nível de escolaridade do cliente\n",
    "Marital_Status | Estado civil do cliente\n",
    "Income | Renda familiar anual do cliente\n",
    "Kidhome | Número de crianças na casa do cliente\n",
    "Teenhome | Número de adolescentes na casa do cliente\n",
    "Dt_Customer | Data de inscrição do cliente na empresa\n",
    "Recency | Número de dias desde a última compra do cliente\n",
    "Complain| Reclamações do cliente; 1: reclamou nos últimos 2 anos, 0: não reclamou\n",
    "MntWines | Valor gasto em vinho nos últimos 2 anos\n",
    "MntFruits | Valor gasto com frutas nos últimos 2 anos\n",
    "MntMeatProducts | Valor gasto com carne nos últimos 2 anos\n",
    "MntFishProducts | Valor gasto com pescados nos últimos 2 anos\n",
    "MntSweetProducts | Valor gasto com doces nos últimos 2 anos\n",
    "MntGoldProds | Valor gasto em ouro nos últimos 2 anos\n",
    "AcceptedCmp1 | 1: cliente aceitou a oferta de promoção na 1ª campanha, 0: não aceitou\n",
    "AcceptedCmp2 | 1: cliente aceitou a oferta de promoção na 2ª campanha, 0: não aceitou\n",
    "AcceptedCmp3 | 1: cliente aceitou a oferta de promoção na 3ª campanha, 0: não aceitou\n",
    "AcceptedCmp4 | 1: cliente aceitou a oferta de promoção na 4ª campanha, 0: não aceitou\n",
    "AcceptedCmp5 | 1: cliente aceitou a oferta de promoção na 1ª campanha, 0: não aceitoupromoção\n",
    "Response | 1: cliente aceitou a oferta de promoção na última campanha, 0: não aceitou\n",
    "NumDealsPurchases | Nº de compras feitas com desconto\n",
    "NumCatalogPurchases | Nº de compras feitas por catálogo\n",
    "NumStorePurchases | Nº de compras feitas diretamente nas lojas\n",
    "NumWebPurchases | Nº de compras feitas através do site da empresa\n",
    "NumWebVisitsMonth | Nº de visitas ao site da empresa no último mês"
   ]
  },
  {
   "cell_type": "markdown",
   "id": "44a762d7",
   "metadata": {
    "heading_collapsed": true
   },
   "source": [
    "# Inspeção dos dados"
   ]
  },
  {
   "cell_type": "markdown",
   "id": "b107a067",
   "metadata": {
    "hidden": true
   },
   "source": [
    "Verificando o nome das colunas."
   ]
  },
  {
   "cell_type": "code",
   "execution_count": 7,
   "id": "cc57e4d9",
   "metadata": {
    "ExecuteTime": {
     "end_time": "2023-03-03T00:11:36.227155Z",
     "start_time": "2023-03-03T00:11:36.218715Z"
    },
    "hidden": true
   },
   "outputs": [
    {
     "data": {
      "text/plain": [
       "Index(['ID', 'Year_Birth', 'Education', 'Marital_Status', 'Income', 'Kidhome',\n",
       "       'Teenhome', 'Dt_Customer', 'Recency', 'MntWines', 'MntFruits',\n",
       "       'MntMeatProducts', 'MntFishProducts', 'MntSweetProducts',\n",
       "       'MntGoldProds', 'NumDealsPurchases', 'NumWebPurchases',\n",
       "       'NumCatalogPurchases', 'NumStorePurchases', 'NumWebVisitsMonth',\n",
       "       'AcceptedCmp3', 'AcceptedCmp4', 'AcceptedCmp5', 'AcceptedCmp1',\n",
       "       'AcceptedCmp2', 'Complain', 'Z_CostContact', 'Z_Revenue', 'Response'],\n",
       "      dtype='object')"
      ]
     },
     "execution_count": 7,
     "metadata": {},
     "output_type": "execute_result"
    }
   ],
   "source": [
    "df.columns"
   ]
  },
  {
   "cell_type": "markdown",
   "id": "40ea36dd",
   "metadata": {
    "hidden": true
   },
   "source": [
    "Verificando a dimensionalidade dos dados."
   ]
  },
  {
   "cell_type": "code",
   "execution_count": 8,
   "id": "9b936960",
   "metadata": {
    "ExecuteTime": {
     "end_time": "2023-03-03T00:11:36.262239Z",
     "start_time": "2023-03-03T00:11:36.235568Z"
    },
    "hidden": true
   },
   "outputs": [
    {
     "name": "stdout",
     "output_type": "stream",
     "text": [
      "Nº de linhas: 2240\n",
      "Nº de coluns: 29\n"
     ]
    }
   ],
   "source": [
    "print(f'Nº de linhas: {df.shape[0]}')\n",
    "print(f'Nº de coluns: {df.shape[1]}')"
   ]
  },
  {
   "cell_type": "markdown",
   "id": "72699294",
   "metadata": {
    "hidden": true
   },
   "source": [
    "Verificando os tipos de dados."
   ]
  },
  {
   "cell_type": "code",
   "execution_count": 9,
   "id": "b9b3eea6",
   "metadata": {
    "ExecuteTime": {
     "end_time": "2023-03-03T00:11:36.294272Z",
     "start_time": "2023-03-03T00:11:36.267700Z"
    },
    "hidden": true
   },
   "outputs": [
    {
     "data": {
      "text/plain": [
       "ID                       int64\n",
       "Year_Birth               int64\n",
       "Education               object\n",
       "Marital_Status          object\n",
       "Income                 float64\n",
       "Kidhome                  int64\n",
       "Teenhome                 int64\n",
       "Dt_Customer             object\n",
       "Recency                  int64\n",
       "MntWines                 int64\n",
       "MntFruits                int64\n",
       "MntMeatProducts          int64\n",
       "MntFishProducts          int64\n",
       "MntSweetProducts         int64\n",
       "MntGoldProds             int64\n",
       "NumDealsPurchases        int64\n",
       "NumWebPurchases          int64\n",
       "NumCatalogPurchases      int64\n",
       "NumStorePurchases        int64\n",
       "NumWebVisitsMonth        int64\n",
       "AcceptedCmp3             int64\n",
       "AcceptedCmp4             int64\n",
       "AcceptedCmp5             int64\n",
       "AcceptedCmp1             int64\n",
       "AcceptedCmp2             int64\n",
       "Complain                 int64\n",
       "Z_CostContact            int64\n",
       "Z_Revenue                int64\n",
       "Response                 int64\n",
       "dtype: object"
      ]
     },
     "execution_count": 9,
     "metadata": {},
     "output_type": "execute_result"
    }
   ],
   "source": [
    "df.dtypes"
   ]
  },
  {
   "cell_type": "markdown",
   "id": "b5bbca47",
   "metadata": {
    "heading_collapsed": true,
    "hidden": true
   },
   "source": [
    "### Convertendo dos dados"
   ]
  },
  {
   "cell_type": "code",
   "execution_count": 10,
   "id": "cb6f5768",
   "metadata": {
    "ExecuteTime": {
     "end_time": "2023-03-03T00:11:36.332869Z",
     "start_time": "2023-03-03T00:11:36.300210Z"
    },
    "hidden": true
   },
   "outputs": [],
   "source": [
    "df.Dt_Customer = pd.to_datetime(df.Dt_Customer, dayfirst=True)"
   ]
  },
  {
   "cell_type": "code",
   "execution_count": null,
   "id": "34a8cda4",
   "metadata": {
    "hidden": true
   },
   "outputs": [],
   "source": []
  },
  {
   "cell_type": "markdown",
   "id": "f40706bf",
   "metadata": {
    "heading_collapsed": true,
    "hidden": true
   },
   "source": [
    "### Checando NA."
   ]
  },
  {
   "cell_type": "code",
   "execution_count": 11,
   "id": "691124d1",
   "metadata": {
    "ExecuteTime": {
     "end_time": "2023-03-03T00:11:36.371159Z",
     "start_time": "2023-03-03T00:11:36.343572Z"
    },
    "hidden": true
   },
   "outputs": [
    {
     "data": {
      "text/plain": [
       "ID                      0\n",
       "Year_Birth              0\n",
       "Education               0\n",
       "Marital_Status          0\n",
       "Income                 24\n",
       "Kidhome                 0\n",
       "Teenhome                0\n",
       "Dt_Customer             0\n",
       "Recency                 0\n",
       "MntWines                0\n",
       "MntFruits               0\n",
       "MntMeatProducts         0\n",
       "MntFishProducts         0\n",
       "MntSweetProducts        0\n",
       "MntGoldProds            0\n",
       "NumDealsPurchases       0\n",
       "NumWebPurchases         0\n",
       "NumCatalogPurchases     0\n",
       "NumStorePurchases       0\n",
       "NumWebVisitsMonth       0\n",
       "AcceptedCmp3            0\n",
       "AcceptedCmp4            0\n",
       "AcceptedCmp5            0\n",
       "AcceptedCmp1            0\n",
       "AcceptedCmp2            0\n",
       "Complain                0\n",
       "Z_CostContact           0\n",
       "Z_Revenue               0\n",
       "Response                0\n",
       "dtype: int64"
      ]
     },
     "execution_count": 11,
     "metadata": {},
     "output_type": "execute_result"
    }
   ],
   "source": [
    "df.isna().sum()"
   ]
  },
  {
   "cell_type": "markdown",
   "id": "8bebf863",
   "metadata": {
    "ExecuteTime": {
     "end_time": "2023-03-02T15:30:30.148008Z",
     "start_time": "2023-03-02T15:30:29.974388Z"
    },
    "heading_collapsed": true,
    "hidden": true
   },
   "source": [
    "### Visualizando os dados"
   ]
  },
  {
   "cell_type": "code",
   "execution_count": 12,
   "id": "0427f7f9",
   "metadata": {
    "ExecuteTime": {
     "end_time": "2023-03-03T00:11:36.497071Z",
     "start_time": "2023-03-03T00:11:36.374743Z"
    },
    "hidden": true
   },
   "outputs": [
    {
     "data": {
      "text/html": [
       "<div>\n",
       "<style scoped>\n",
       "    .dataframe tbody tr th:only-of-type {\n",
       "        vertical-align: middle;\n",
       "    }\n",
       "\n",
       "    .dataframe tbody tr th {\n",
       "        vertical-align: top;\n",
       "    }\n",
       "\n",
       "    .dataframe thead th {\n",
       "        text-align: right;\n",
       "    }\n",
       "</style>\n",
       "<table border=\"1\" class=\"dataframe\">\n",
       "  <thead>\n",
       "    <tr style=\"text-align: right;\">\n",
       "      <th></th>\n",
       "      <th>0</th>\n",
       "      <th>1</th>\n",
       "      <th>2</th>\n",
       "      <th>3</th>\n",
       "      <th>4</th>\n",
       "      <th>5</th>\n",
       "      <th>6</th>\n",
       "      <th>7</th>\n",
       "      <th>8</th>\n",
       "      <th>9</th>\n",
       "      <th>10</th>\n",
       "      <th>11</th>\n",
       "      <th>12</th>\n",
       "      <th>13</th>\n",
       "      <th>14</th>\n",
       "      <th>...</th>\n",
       "      <th>2225</th>\n",
       "      <th>2226</th>\n",
       "      <th>2227</th>\n",
       "      <th>2228</th>\n",
       "      <th>2229</th>\n",
       "      <th>2230</th>\n",
       "      <th>2231</th>\n",
       "      <th>2232</th>\n",
       "      <th>2233</th>\n",
       "      <th>2234</th>\n",
       "      <th>2235</th>\n",
       "      <th>2236</th>\n",
       "      <th>2237</th>\n",
       "      <th>2238</th>\n",
       "      <th>2239</th>\n",
       "    </tr>\n",
       "  </thead>\n",
       "  <tbody>\n",
       "    <tr>\n",
       "      <th>ID</th>\n",
       "      <td>5524</td>\n",
       "      <td>2174</td>\n",
       "      <td>4141</td>\n",
       "      <td>6182</td>\n",
       "      <td>5324</td>\n",
       "      <td>7446</td>\n",
       "      <td>965</td>\n",
       "      <td>6177</td>\n",
       "      <td>4855</td>\n",
       "      <td>5899</td>\n",
       "      <td>1994</td>\n",
       "      <td>387</td>\n",
       "      <td>2125</td>\n",
       "      <td>8180</td>\n",
       "      <td>2569</td>\n",
       "      <td>...</td>\n",
       "      <td>4749</td>\n",
       "      <td>4478</td>\n",
       "      <td>4201</td>\n",
       "      <td>8720</td>\n",
       "      <td>10084</td>\n",
       "      <td>7004</td>\n",
       "      <td>9817</td>\n",
       "      <td>8080</td>\n",
       "      <td>9432</td>\n",
       "      <td>8372</td>\n",
       "      <td>10870</td>\n",
       "      <td>4001</td>\n",
       "      <td>7270</td>\n",
       "      <td>8235</td>\n",
       "      <td>9405</td>\n",
       "    </tr>\n",
       "    <tr>\n",
       "      <th>Year_Birth</th>\n",
       "      <td>1957</td>\n",
       "      <td>1954</td>\n",
       "      <td>1965</td>\n",
       "      <td>1984</td>\n",
       "      <td>1981</td>\n",
       "      <td>1967</td>\n",
       "      <td>1971</td>\n",
       "      <td>1985</td>\n",
       "      <td>1974</td>\n",
       "      <td>1950</td>\n",
       "      <td>1983</td>\n",
       "      <td>1976</td>\n",
       "      <td>1959</td>\n",
       "      <td>1952</td>\n",
       "      <td>1987</td>\n",
       "      <td>...</td>\n",
       "      <td>1968</td>\n",
       "      <td>1979</td>\n",
       "      <td>1962</td>\n",
       "      <td>1978</td>\n",
       "      <td>1972</td>\n",
       "      <td>1984</td>\n",
       "      <td>1970</td>\n",
       "      <td>1986</td>\n",
       "      <td>1977</td>\n",
       "      <td>1974</td>\n",
       "      <td>1967</td>\n",
       "      <td>1946</td>\n",
       "      <td>1981</td>\n",
       "      <td>1956</td>\n",
       "      <td>1954</td>\n",
       "    </tr>\n",
       "    <tr>\n",
       "      <th>Education</th>\n",
       "      <td>Graduation</td>\n",
       "      <td>Graduation</td>\n",
       "      <td>Graduation</td>\n",
       "      <td>Graduation</td>\n",
       "      <td>PhD</td>\n",
       "      <td>Master</td>\n",
       "      <td>Graduation</td>\n",
       "      <td>PhD</td>\n",
       "      <td>PhD</td>\n",
       "      <td>PhD</td>\n",
       "      <td>Graduation</td>\n",
       "      <td>Basic</td>\n",
       "      <td>Graduation</td>\n",
       "      <td>Master</td>\n",
       "      <td>Graduation</td>\n",
       "      <td>...</td>\n",
       "      <td>Graduation</td>\n",
       "      <td>Graduation</td>\n",
       "      <td>Graduation</td>\n",
       "      <td>2n Cycle</td>\n",
       "      <td>Graduation</td>\n",
       "      <td>Graduation</td>\n",
       "      <td>Master</td>\n",
       "      <td>Graduation</td>\n",
       "      <td>Graduation</td>\n",
       "      <td>Graduation</td>\n",
       "      <td>Graduation</td>\n",
       "      <td>PhD</td>\n",
       "      <td>Graduation</td>\n",
       "      <td>Master</td>\n",
       "      <td>PhD</td>\n",
       "    </tr>\n",
       "    <tr>\n",
       "      <th>Marital_Status</th>\n",
       "      <td>Single</td>\n",
       "      <td>Single</td>\n",
       "      <td>Together</td>\n",
       "      <td>Together</td>\n",
       "      <td>Married</td>\n",
       "      <td>Together</td>\n",
       "      <td>Divorced</td>\n",
       "      <td>Married</td>\n",
       "      <td>Together</td>\n",
       "      <td>Together</td>\n",
       "      <td>Married</td>\n",
       "      <td>Married</td>\n",
       "      <td>Divorced</td>\n",
       "      <td>Divorced</td>\n",
       "      <td>Married</td>\n",
       "      <td>...</td>\n",
       "      <td>Together</td>\n",
       "      <td>Married</td>\n",
       "      <td>Single</td>\n",
       "      <td>Together</td>\n",
       "      <td>Married</td>\n",
       "      <td>Single</td>\n",
       "      <td>Single</td>\n",
       "      <td>Single</td>\n",
       "      <td>Together</td>\n",
       "      <td>Married</td>\n",
       "      <td>Married</td>\n",
       "      <td>Together</td>\n",
       "      <td>Divorced</td>\n",
       "      <td>Together</td>\n",
       "      <td>Married</td>\n",
       "    </tr>\n",
       "    <tr>\n",
       "      <th>Income</th>\n",
       "      <td>58138.0</td>\n",
       "      <td>46344.0</td>\n",
       "      <td>71613.0</td>\n",
       "      <td>26646.0</td>\n",
       "      <td>58293.0</td>\n",
       "      <td>62513.0</td>\n",
       "      <td>55635.0</td>\n",
       "      <td>33454.0</td>\n",
       "      <td>30351.0</td>\n",
       "      <td>5648.0</td>\n",
       "      <td>NaN</td>\n",
       "      <td>7500.0</td>\n",
       "      <td>63033.0</td>\n",
       "      <td>59354.0</td>\n",
       "      <td>17323.0</td>\n",
       "      <td>...</td>\n",
       "      <td>58554.0</td>\n",
       "      <td>63777.0</td>\n",
       "      <td>57967.0</td>\n",
       "      <td>NaN</td>\n",
       "      <td>24434.0</td>\n",
       "      <td>11012.0</td>\n",
       "      <td>44802.0</td>\n",
       "      <td>26816.0</td>\n",
       "      <td>666666.0</td>\n",
       "      <td>34421.0</td>\n",
       "      <td>61223.0</td>\n",
       "      <td>64014.0</td>\n",
       "      <td>56981.0</td>\n",
       "      <td>69245.0</td>\n",
       "      <td>52869.0</td>\n",
       "    </tr>\n",
       "    <tr>\n",
       "      <th>Kidhome</th>\n",
       "      <td>0</td>\n",
       "      <td>1</td>\n",
       "      <td>0</td>\n",
       "      <td>1</td>\n",
       "      <td>1</td>\n",
       "      <td>0</td>\n",
       "      <td>0</td>\n",
       "      <td>1</td>\n",
       "      <td>1</td>\n",
       "      <td>1</td>\n",
       "      <td>1</td>\n",
       "      <td>0</td>\n",
       "      <td>0</td>\n",
       "      <td>1</td>\n",
       "      <td>0</td>\n",
       "      <td>...</td>\n",
       "      <td>1</td>\n",
       "      <td>1</td>\n",
       "      <td>0</td>\n",
       "      <td>0</td>\n",
       "      <td>2</td>\n",
       "      <td>1</td>\n",
       "      <td>0</td>\n",
       "      <td>0</td>\n",
       "      <td>1</td>\n",
       "      <td>1</td>\n",
       "      <td>0</td>\n",
       "      <td>2</td>\n",
       "      <td>0</td>\n",
       "      <td>0</td>\n",
       "      <td>1</td>\n",
       "    </tr>\n",
       "    <tr>\n",
       "      <th>Teenhome</th>\n",
       "      <td>0</td>\n",
       "      <td>1</td>\n",
       "      <td>0</td>\n",
       "      <td>0</td>\n",
       "      <td>0</td>\n",
       "      <td>1</td>\n",
       "      <td>1</td>\n",
       "      <td>0</td>\n",
       "      <td>0</td>\n",
       "      <td>1</td>\n",
       "      <td>0</td>\n",
       "      <td>0</td>\n",
       "      <td>0</td>\n",
       "      <td>1</td>\n",
       "      <td>0</td>\n",
       "      <td>...</td>\n",
       "      <td>1</td>\n",
       "      <td>1</td>\n",
       "      <td>1</td>\n",
       "      <td>0</td>\n",
       "      <td>0</td>\n",
       "      <td>0</td>\n",
       "      <td>0</td>\n",
       "      <td>0</td>\n",
       "      <td>0</td>\n",
       "      <td>0</td>\n",
       "      <td>1</td>\n",
       "      <td>1</td>\n",
       "      <td>0</td>\n",
       "      <td>1</td>\n",
       "      <td>1</td>\n",
       "    </tr>\n",
       "    <tr>\n",
       "      <th>Dt_Customer</th>\n",
       "      <td>2012-09-04 00:00:00</td>\n",
       "      <td>2014-03-08 00:00:00</td>\n",
       "      <td>2013-08-21 00:00:00</td>\n",
       "      <td>2014-02-10 00:00:00</td>\n",
       "      <td>2014-01-19 00:00:00</td>\n",
       "      <td>2013-09-09 00:00:00</td>\n",
       "      <td>2012-11-13 00:00:00</td>\n",
       "      <td>2013-05-08 00:00:00</td>\n",
       "      <td>2013-06-06 00:00:00</td>\n",
       "      <td>2014-03-13 00:00:00</td>\n",
       "      <td>2013-11-15 00:00:00</td>\n",
       "      <td>2012-11-13 00:00:00</td>\n",
       "      <td>2013-11-15 00:00:00</td>\n",
       "      <td>2013-11-15 00:00:00</td>\n",
       "      <td>2012-10-10 00:00:00</td>\n",
       "      <td>...</td>\n",
       "      <td>2012-09-26 00:00:00</td>\n",
       "      <td>2013-03-24 00:00:00</td>\n",
       "      <td>2013-03-03 00:00:00</td>\n",
       "      <td>2012-08-12 00:00:00</td>\n",
       "      <td>2014-05-18 00:00:00</td>\n",
       "      <td>2013-03-16 00:00:00</td>\n",
       "      <td>2012-08-21 00:00:00</td>\n",
       "      <td>2012-08-17 00:00:00</td>\n",
       "      <td>2013-06-02 00:00:00</td>\n",
       "      <td>2013-07-01 00:00:00</td>\n",
       "      <td>2013-06-13 00:00:00</td>\n",
       "      <td>2014-06-10 00:00:00</td>\n",
       "      <td>2014-01-25 00:00:00</td>\n",
       "      <td>2014-01-24 00:00:00</td>\n",
       "      <td>2012-10-15 00:00:00</td>\n",
       "    </tr>\n",
       "    <tr>\n",
       "      <th>Recency</th>\n",
       "      <td>58</td>\n",
       "      <td>38</td>\n",
       "      <td>26</td>\n",
       "      <td>26</td>\n",
       "      <td>94</td>\n",
       "      <td>16</td>\n",
       "      <td>34</td>\n",
       "      <td>32</td>\n",
       "      <td>19</td>\n",
       "      <td>68</td>\n",
       "      <td>11</td>\n",
       "      <td>59</td>\n",
       "      <td>82</td>\n",
       "      <td>53</td>\n",
       "      <td>38</td>\n",
       "      <td>...</td>\n",
       "      <td>55</td>\n",
       "      <td>87</td>\n",
       "      <td>39</td>\n",
       "      <td>53</td>\n",
       "      <td>9</td>\n",
       "      <td>82</td>\n",
       "      <td>71</td>\n",
       "      <td>50</td>\n",
       "      <td>23</td>\n",
       "      <td>81</td>\n",
       "      <td>46</td>\n",
       "      <td>56</td>\n",
       "      <td>91</td>\n",
       "      <td>8</td>\n",
       "      <td>40</td>\n",
       "    </tr>\n",
       "    <tr>\n",
       "      <th>MntWines</th>\n",
       "      <td>635</td>\n",
       "      <td>11</td>\n",
       "      <td>426</td>\n",
       "      <td>11</td>\n",
       "      <td>173</td>\n",
       "      <td>520</td>\n",
       "      <td>235</td>\n",
       "      <td>76</td>\n",
       "      <td>14</td>\n",
       "      <td>28</td>\n",
       "      <td>5</td>\n",
       "      <td>6</td>\n",
       "      <td>194</td>\n",
       "      <td>233</td>\n",
       "      <td>3</td>\n",
       "      <td>...</td>\n",
       "      <td>368</td>\n",
       "      <td>457</td>\n",
       "      <td>229</td>\n",
       "      <td>32</td>\n",
       "      <td>3</td>\n",
       "      <td>24</td>\n",
       "      <td>853</td>\n",
       "      <td>5</td>\n",
       "      <td>9</td>\n",
       "      <td>3</td>\n",
       "      <td>709</td>\n",
       "      <td>406</td>\n",
       "      <td>908</td>\n",
       "      <td>428</td>\n",
       "      <td>84</td>\n",
       "    </tr>\n",
       "    <tr>\n",
       "      <th>MntFruits</th>\n",
       "      <td>88</td>\n",
       "      <td>1</td>\n",
       "      <td>49</td>\n",
       "      <td>4</td>\n",
       "      <td>43</td>\n",
       "      <td>42</td>\n",
       "      <td>65</td>\n",
       "      <td>10</td>\n",
       "      <td>0</td>\n",
       "      <td>0</td>\n",
       "      <td>5</td>\n",
       "      <td>16</td>\n",
       "      <td>61</td>\n",
       "      <td>2</td>\n",
       "      <td>14</td>\n",
       "      <td>...</td>\n",
       "      <td>24</td>\n",
       "      <td>5</td>\n",
       "      <td>7</td>\n",
       "      <td>2</td>\n",
       "      <td>2</td>\n",
       "      <td>3</td>\n",
       "      <td>10</td>\n",
       "      <td>1</td>\n",
       "      <td>14</td>\n",
       "      <td>3</td>\n",
       "      <td>43</td>\n",
       "      <td>0</td>\n",
       "      <td>48</td>\n",
       "      <td>30</td>\n",
       "      <td>3</td>\n",
       "    </tr>\n",
       "    <tr>\n",
       "      <th>MntMeatProducts</th>\n",
       "      <td>546</td>\n",
       "      <td>6</td>\n",
       "      <td>127</td>\n",
       "      <td>20</td>\n",
       "      <td>118</td>\n",
       "      <td>98</td>\n",
       "      <td>164</td>\n",
       "      <td>56</td>\n",
       "      <td>24</td>\n",
       "      <td>6</td>\n",
       "      <td>6</td>\n",
       "      <td>11</td>\n",
       "      <td>480</td>\n",
       "      <td>53</td>\n",
       "      <td>17</td>\n",
       "      <td>...</td>\n",
       "      <td>68</td>\n",
       "      <td>106</td>\n",
       "      <td>137</td>\n",
       "      <td>1607</td>\n",
       "      <td>8</td>\n",
       "      <td>26</td>\n",
       "      <td>143</td>\n",
       "      <td>6</td>\n",
       "      <td>18</td>\n",
       "      <td>7</td>\n",
       "      <td>182</td>\n",
       "      <td>30</td>\n",
       "      <td>217</td>\n",
       "      <td>214</td>\n",
       "      <td>61</td>\n",
       "    </tr>\n",
       "    <tr>\n",
       "      <th>MntFishProducts</th>\n",
       "      <td>172</td>\n",
       "      <td>2</td>\n",
       "      <td>111</td>\n",
       "      <td>10</td>\n",
       "      <td>46</td>\n",
       "      <td>0</td>\n",
       "      <td>50</td>\n",
       "      <td>3</td>\n",
       "      <td>3</td>\n",
       "      <td>1</td>\n",
       "      <td>0</td>\n",
       "      <td>11</td>\n",
       "      <td>225</td>\n",
       "      <td>3</td>\n",
       "      <td>6</td>\n",
       "      <td>...</td>\n",
       "      <td>38</td>\n",
       "      <td>15</td>\n",
       "      <td>4</td>\n",
       "      <td>12</td>\n",
       "      <td>20</td>\n",
       "      <td>7</td>\n",
       "      <td>13</td>\n",
       "      <td>3</td>\n",
       "      <td>8</td>\n",
       "      <td>6</td>\n",
       "      <td>42</td>\n",
       "      <td>0</td>\n",
       "      <td>32</td>\n",
       "      <td>80</td>\n",
       "      <td>2</td>\n",
       "    </tr>\n",
       "    <tr>\n",
       "      <th>MntSweetProducts</th>\n",
       "      <td>88</td>\n",
       "      <td>1</td>\n",
       "      <td>21</td>\n",
       "      <td>3</td>\n",
       "      <td>27</td>\n",
       "      <td>42</td>\n",
       "      <td>49</td>\n",
       "      <td>1</td>\n",
       "      <td>3</td>\n",
       "      <td>1</td>\n",
       "      <td>2</td>\n",
       "      <td>1</td>\n",
       "      <td>112</td>\n",
       "      <td>5</td>\n",
       "      <td>1</td>\n",
       "      <td>...</td>\n",
       "      <td>0</td>\n",
       "      <td>17</td>\n",
       "      <td>0</td>\n",
       "      <td>4</td>\n",
       "      <td>0</td>\n",
       "      <td>1</td>\n",
       "      <td>10</td>\n",
       "      <td>4</td>\n",
       "      <td>1</td>\n",
       "      <td>2</td>\n",
       "      <td>118</td>\n",
       "      <td>0</td>\n",
       "      <td>12</td>\n",
       "      <td>30</td>\n",
       "      <td>1</td>\n",
       "    </tr>\n",
       "    <tr>\n",
       "      <th>MntGoldProds</th>\n",
       "      <td>88</td>\n",
       "      <td>6</td>\n",
       "      <td>42</td>\n",
       "      <td>5</td>\n",
       "      <td>15</td>\n",
       "      <td>14</td>\n",
       "      <td>27</td>\n",
       "      <td>23</td>\n",
       "      <td>2</td>\n",
       "      <td>13</td>\n",
       "      <td>1</td>\n",
       "      <td>16</td>\n",
       "      <td>30</td>\n",
       "      <td>14</td>\n",
       "      <td>5</td>\n",
       "      <td>...</td>\n",
       "      <td>88</td>\n",
       "      <td>53</td>\n",
       "      <td>91</td>\n",
       "      <td>22</td>\n",
       "      <td>17</td>\n",
       "      <td>23</td>\n",
       "      <td>20</td>\n",
       "      <td>3</td>\n",
       "      <td>12</td>\n",
       "      <td>9</td>\n",
       "      <td>247</td>\n",
       "      <td>8</td>\n",
       "      <td>24</td>\n",
       "      <td>61</td>\n",
       "      <td>21</td>\n",
       "    </tr>\n",
       "    <tr>\n",
       "      <th>NumDealsPurchases</th>\n",
       "      <td>3</td>\n",
       "      <td>2</td>\n",
       "      <td>1</td>\n",
       "      <td>2</td>\n",
       "      <td>5</td>\n",
       "      <td>2</td>\n",
       "      <td>4</td>\n",
       "      <td>2</td>\n",
       "      <td>1</td>\n",
       "      <td>1</td>\n",
       "      <td>1</td>\n",
       "      <td>1</td>\n",
       "      <td>1</td>\n",
       "      <td>3</td>\n",
       "      <td>1</td>\n",
       "      <td>...</td>\n",
       "      <td>6</td>\n",
       "      <td>8</td>\n",
       "      <td>5</td>\n",
       "      <td>0</td>\n",
       "      <td>2</td>\n",
       "      <td>3</td>\n",
       "      <td>2</td>\n",
       "      <td>1</td>\n",
       "      <td>4</td>\n",
       "      <td>1</td>\n",
       "      <td>2</td>\n",
       "      <td>7</td>\n",
       "      <td>1</td>\n",
       "      <td>2</td>\n",
       "      <td>3</td>\n",
       "    </tr>\n",
       "    <tr>\n",
       "      <th>NumWebPurchases</th>\n",
       "      <td>8</td>\n",
       "      <td>1</td>\n",
       "      <td>8</td>\n",
       "      <td>2</td>\n",
       "      <td>5</td>\n",
       "      <td>6</td>\n",
       "      <td>7</td>\n",
       "      <td>4</td>\n",
       "      <td>3</td>\n",
       "      <td>1</td>\n",
       "      <td>1</td>\n",
       "      <td>2</td>\n",
       "      <td>3</td>\n",
       "      <td>6</td>\n",
       "      <td>1</td>\n",
       "      <td>...</td>\n",
       "      <td>8</td>\n",
       "      <td>11</td>\n",
       "      <td>4</td>\n",
       "      <td>0</td>\n",
       "      <td>2</td>\n",
       "      <td>3</td>\n",
       "      <td>9</td>\n",
       "      <td>0</td>\n",
       "      <td>3</td>\n",
       "      <td>1</td>\n",
       "      <td>9</td>\n",
       "      <td>8</td>\n",
       "      <td>2</td>\n",
       "      <td>6</td>\n",
       "      <td>3</td>\n",
       "    </tr>\n",
       "    <tr>\n",
       "      <th>NumCatalogPurchases</th>\n",
       "      <td>10</td>\n",
       "      <td>1</td>\n",
       "      <td>2</td>\n",
       "      <td>0</td>\n",
       "      <td>3</td>\n",
       "      <td>4</td>\n",
       "      <td>3</td>\n",
       "      <td>0</td>\n",
       "      <td>0</td>\n",
       "      <td>0</td>\n",
       "      <td>0</td>\n",
       "      <td>0</td>\n",
       "      <td>4</td>\n",
       "      <td>1</td>\n",
       "      <td>0</td>\n",
       "      <td>...</td>\n",
       "      <td>2</td>\n",
       "      <td>1</td>\n",
       "      <td>2</td>\n",
       "      <td>0</td>\n",
       "      <td>1</td>\n",
       "      <td>1</td>\n",
       "      <td>4</td>\n",
       "      <td>0</td>\n",
       "      <td>1</td>\n",
       "      <td>0</td>\n",
       "      <td>3</td>\n",
       "      <td>2</td>\n",
       "      <td>3</td>\n",
       "      <td>5</td>\n",
       "      <td>1</td>\n",
       "    </tr>\n",
       "    <tr>\n",
       "      <th>NumStorePurchases</th>\n",
       "      <td>4</td>\n",
       "      <td>2</td>\n",
       "      <td>10</td>\n",
       "      <td>4</td>\n",
       "      <td>6</td>\n",
       "      <td>10</td>\n",
       "      <td>7</td>\n",
       "      <td>4</td>\n",
       "      <td>2</td>\n",
       "      <td>0</td>\n",
       "      <td>2</td>\n",
       "      <td>3</td>\n",
       "      <td>8</td>\n",
       "      <td>5</td>\n",
       "      <td>3</td>\n",
       "      <td>...</td>\n",
       "      <td>6</td>\n",
       "      <td>6</td>\n",
       "      <td>8</td>\n",
       "      <td>1</td>\n",
       "      <td>2</td>\n",
       "      <td>2</td>\n",
       "      <td>12</td>\n",
       "      <td>3</td>\n",
       "      <td>3</td>\n",
       "      <td>2</td>\n",
       "      <td>4</td>\n",
       "      <td>5</td>\n",
       "      <td>13</td>\n",
       "      <td>10</td>\n",
       "      <td>4</td>\n",
       "    </tr>\n",
       "    <tr>\n",
       "      <th>NumWebVisitsMonth</th>\n",
       "      <td>7</td>\n",
       "      <td>5</td>\n",
       "      <td>4</td>\n",
       "      <td>6</td>\n",
       "      <td>5</td>\n",
       "      <td>6</td>\n",
       "      <td>6</td>\n",
       "      <td>8</td>\n",
       "      <td>9</td>\n",
       "      <td>20</td>\n",
       "      <td>7</td>\n",
       "      <td>8</td>\n",
       "      <td>2</td>\n",
       "      <td>6</td>\n",
       "      <td>8</td>\n",
       "      <td>...</td>\n",
       "      <td>7</td>\n",
       "      <td>8</td>\n",
       "      <td>5</td>\n",
       "      <td>0</td>\n",
       "      <td>7</td>\n",
       "      <td>9</td>\n",
       "      <td>8</td>\n",
       "      <td>4</td>\n",
       "      <td>6</td>\n",
       "      <td>7</td>\n",
       "      <td>5</td>\n",
       "      <td>7</td>\n",
       "      <td>6</td>\n",
       "      <td>3</td>\n",
       "      <td>7</td>\n",
       "    </tr>\n",
       "    <tr>\n",
       "      <th>AcceptedCmp3</th>\n",
       "      <td>0</td>\n",
       "      <td>0</td>\n",
       "      <td>0</td>\n",
       "      <td>0</td>\n",
       "      <td>0</td>\n",
       "      <td>0</td>\n",
       "      <td>0</td>\n",
       "      <td>0</td>\n",
       "      <td>0</td>\n",
       "      <td>1</td>\n",
       "      <td>0</td>\n",
       "      <td>0</td>\n",
       "      <td>0</td>\n",
       "      <td>0</td>\n",
       "      <td>0</td>\n",
       "      <td>...</td>\n",
       "      <td>0</td>\n",
       "      <td>0</td>\n",
       "      <td>0</td>\n",
       "      <td>0</td>\n",
       "      <td>0</td>\n",
       "      <td>1</td>\n",
       "      <td>0</td>\n",
       "      <td>0</td>\n",
       "      <td>0</td>\n",
       "      <td>0</td>\n",
       "      <td>0</td>\n",
       "      <td>0</td>\n",
       "      <td>0</td>\n",
       "      <td>0</td>\n",
       "      <td>0</td>\n",
       "    </tr>\n",
       "    <tr>\n",
       "      <th>AcceptedCmp4</th>\n",
       "      <td>0</td>\n",
       "      <td>0</td>\n",
       "      <td>0</td>\n",
       "      <td>0</td>\n",
       "      <td>0</td>\n",
       "      <td>0</td>\n",
       "      <td>0</td>\n",
       "      <td>0</td>\n",
       "      <td>0</td>\n",
       "      <td>0</td>\n",
       "      <td>0</td>\n",
       "      <td>0</td>\n",
       "      <td>0</td>\n",
       "      <td>0</td>\n",
       "      <td>0</td>\n",
       "      <td>...</td>\n",
       "      <td>0</td>\n",
       "      <td>0</td>\n",
       "      <td>0</td>\n",
       "      <td>1</td>\n",
       "      <td>0</td>\n",
       "      <td>0</td>\n",
       "      <td>0</td>\n",
       "      <td>0</td>\n",
       "      <td>0</td>\n",
       "      <td>0</td>\n",
       "      <td>0</td>\n",
       "      <td>0</td>\n",
       "      <td>1</td>\n",
       "      <td>0</td>\n",
       "      <td>0</td>\n",
       "    </tr>\n",
       "    <tr>\n",
       "      <th>AcceptedCmp5</th>\n",
       "      <td>0</td>\n",
       "      <td>0</td>\n",
       "      <td>0</td>\n",
       "      <td>0</td>\n",
       "      <td>0</td>\n",
       "      <td>0</td>\n",
       "      <td>0</td>\n",
       "      <td>0</td>\n",
       "      <td>0</td>\n",
       "      <td>0</td>\n",
       "      <td>0</td>\n",
       "      <td>0</td>\n",
       "      <td>0</td>\n",
       "      <td>0</td>\n",
       "      <td>0</td>\n",
       "      <td>...</td>\n",
       "      <td>0</td>\n",
       "      <td>0</td>\n",
       "      <td>0</td>\n",
       "      <td>0</td>\n",
       "      <td>0</td>\n",
       "      <td>0</td>\n",
       "      <td>0</td>\n",
       "      <td>0</td>\n",
       "      <td>0</td>\n",
       "      <td>0</td>\n",
       "      <td>0</td>\n",
       "      <td>0</td>\n",
       "      <td>0</td>\n",
       "      <td>0</td>\n",
       "      <td>0</td>\n",
       "    </tr>\n",
       "    <tr>\n",
       "      <th>AcceptedCmp1</th>\n",
       "      <td>0</td>\n",
       "      <td>0</td>\n",
       "      <td>0</td>\n",
       "      <td>0</td>\n",
       "      <td>0</td>\n",
       "      <td>0</td>\n",
       "      <td>0</td>\n",
       "      <td>0</td>\n",
       "      <td>0</td>\n",
       "      <td>0</td>\n",
       "      <td>0</td>\n",
       "      <td>0</td>\n",
       "      <td>0</td>\n",
       "      <td>0</td>\n",
       "      <td>0</td>\n",
       "      <td>...</td>\n",
       "      <td>0</td>\n",
       "      <td>0</td>\n",
       "      <td>0</td>\n",
       "      <td>0</td>\n",
       "      <td>0</td>\n",
       "      <td>0</td>\n",
       "      <td>0</td>\n",
       "      <td>0</td>\n",
       "      <td>0</td>\n",
       "      <td>0</td>\n",
       "      <td>0</td>\n",
       "      <td>1</td>\n",
       "      <td>0</td>\n",
       "      <td>0</td>\n",
       "      <td>0</td>\n",
       "    </tr>\n",
       "    <tr>\n",
       "      <th>AcceptedCmp2</th>\n",
       "      <td>0</td>\n",
       "      <td>0</td>\n",
       "      <td>0</td>\n",
       "      <td>0</td>\n",
       "      <td>0</td>\n",
       "      <td>0</td>\n",
       "      <td>0</td>\n",
       "      <td>0</td>\n",
       "      <td>0</td>\n",
       "      <td>0</td>\n",
       "      <td>0</td>\n",
       "      <td>0</td>\n",
       "      <td>0</td>\n",
       "      <td>0</td>\n",
       "      <td>0</td>\n",
       "      <td>...</td>\n",
       "      <td>0</td>\n",
       "      <td>0</td>\n",
       "      <td>0</td>\n",
       "      <td>0</td>\n",
       "      <td>0</td>\n",
       "      <td>0</td>\n",
       "      <td>0</td>\n",
       "      <td>0</td>\n",
       "      <td>0</td>\n",
       "      <td>0</td>\n",
       "      <td>0</td>\n",
       "      <td>0</td>\n",
       "      <td>0</td>\n",
       "      <td>0</td>\n",
       "      <td>0</td>\n",
       "    </tr>\n",
       "    <tr>\n",
       "      <th>Complain</th>\n",
       "      <td>0</td>\n",
       "      <td>0</td>\n",
       "      <td>0</td>\n",
       "      <td>0</td>\n",
       "      <td>0</td>\n",
       "      <td>0</td>\n",
       "      <td>0</td>\n",
       "      <td>0</td>\n",
       "      <td>0</td>\n",
       "      <td>0</td>\n",
       "      <td>0</td>\n",
       "      <td>0</td>\n",
       "      <td>0</td>\n",
       "      <td>0</td>\n",
       "      <td>0</td>\n",
       "      <td>...</td>\n",
       "      <td>0</td>\n",
       "      <td>0</td>\n",
       "      <td>0</td>\n",
       "      <td>0</td>\n",
       "      <td>0</td>\n",
       "      <td>0</td>\n",
       "      <td>0</td>\n",
       "      <td>0</td>\n",
       "      <td>0</td>\n",
       "      <td>0</td>\n",
       "      <td>0</td>\n",
       "      <td>0</td>\n",
       "      <td>0</td>\n",
       "      <td>0</td>\n",
       "      <td>0</td>\n",
       "    </tr>\n",
       "    <tr>\n",
       "      <th>Z_CostContact</th>\n",
       "      <td>3</td>\n",
       "      <td>3</td>\n",
       "      <td>3</td>\n",
       "      <td>3</td>\n",
       "      <td>3</td>\n",
       "      <td>3</td>\n",
       "      <td>3</td>\n",
       "      <td>3</td>\n",
       "      <td>3</td>\n",
       "      <td>3</td>\n",
       "      <td>3</td>\n",
       "      <td>3</td>\n",
       "      <td>3</td>\n",
       "      <td>3</td>\n",
       "      <td>3</td>\n",
       "      <td>...</td>\n",
       "      <td>3</td>\n",
       "      <td>3</td>\n",
       "      <td>3</td>\n",
       "      <td>3</td>\n",
       "      <td>3</td>\n",
       "      <td>3</td>\n",
       "      <td>3</td>\n",
       "      <td>3</td>\n",
       "      <td>3</td>\n",
       "      <td>3</td>\n",
       "      <td>3</td>\n",
       "      <td>3</td>\n",
       "      <td>3</td>\n",
       "      <td>3</td>\n",
       "      <td>3</td>\n",
       "    </tr>\n",
       "    <tr>\n",
       "      <th>Z_Revenue</th>\n",
       "      <td>11</td>\n",
       "      <td>11</td>\n",
       "      <td>11</td>\n",
       "      <td>11</td>\n",
       "      <td>11</td>\n",
       "      <td>11</td>\n",
       "      <td>11</td>\n",
       "      <td>11</td>\n",
       "      <td>11</td>\n",
       "      <td>11</td>\n",
       "      <td>11</td>\n",
       "      <td>11</td>\n",
       "      <td>11</td>\n",
       "      <td>11</td>\n",
       "      <td>11</td>\n",
       "      <td>...</td>\n",
       "      <td>11</td>\n",
       "      <td>11</td>\n",
       "      <td>11</td>\n",
       "      <td>11</td>\n",
       "      <td>11</td>\n",
       "      <td>11</td>\n",
       "      <td>11</td>\n",
       "      <td>11</td>\n",
       "      <td>11</td>\n",
       "      <td>11</td>\n",
       "      <td>11</td>\n",
       "      <td>11</td>\n",
       "      <td>11</td>\n",
       "      <td>11</td>\n",
       "      <td>11</td>\n",
       "    </tr>\n",
       "    <tr>\n",
       "      <th>Response</th>\n",
       "      <td>1</td>\n",
       "      <td>0</td>\n",
       "      <td>0</td>\n",
       "      <td>0</td>\n",
       "      <td>0</td>\n",
       "      <td>0</td>\n",
       "      <td>0</td>\n",
       "      <td>0</td>\n",
       "      <td>1</td>\n",
       "      <td>0</td>\n",
       "      <td>0</td>\n",
       "      <td>0</td>\n",
       "      <td>0</td>\n",
       "      <td>0</td>\n",
       "      <td>0</td>\n",
       "      <td>...</td>\n",
       "      <td>0</td>\n",
       "      <td>0</td>\n",
       "      <td>0</td>\n",
       "      <td>0</td>\n",
       "      <td>0</td>\n",
       "      <td>0</td>\n",
       "      <td>0</td>\n",
       "      <td>0</td>\n",
       "      <td>0</td>\n",
       "      <td>0</td>\n",
       "      <td>0</td>\n",
       "      <td>0</td>\n",
       "      <td>0</td>\n",
       "      <td>0</td>\n",
       "      <td>1</td>\n",
       "    </tr>\n",
       "  </tbody>\n",
       "</table>\n",
       "<p>29 rows × 2240 columns</p>\n",
       "</div>"
      ],
      "text/plain": [
       "                                    0                    1                    2                    3                    4                    5                    6                    7                    8                    9                    10                   11                   12                   13                   14    ...                 2225                 2226                 2227                 2228                 2229                 2230                 2231                 2232                 2233                 2234                 2235                 2236                 2237                 2238                 2239\n",
       "ID                                  5524                 2174                 4141                 6182                 5324                 7446                  965                 6177                 4855                 5899                 1994                  387                 2125                 8180                 2569  ...                 4749                 4478                 4201                 8720                10084                 7004                 9817                 8080                 9432                 8372                10870                 4001                 7270                 8235                 9405\n",
       "Year_Birth                          1957                 1954                 1965                 1984                 1981                 1967                 1971                 1985                 1974                 1950                 1983                 1976                 1959                 1952                 1987  ...                 1968                 1979                 1962                 1978                 1972                 1984                 1970                 1986                 1977                 1974                 1967                 1946                 1981                 1956                 1954\n",
       "Education                     Graduation           Graduation           Graduation           Graduation                  PhD               Master           Graduation                  PhD                  PhD                  PhD           Graduation                Basic           Graduation               Master           Graduation  ...           Graduation           Graduation           Graduation             2n Cycle           Graduation           Graduation               Master           Graduation           Graduation           Graduation           Graduation                  PhD           Graduation               Master                  PhD\n",
       "Marital_Status                    Single               Single             Together             Together              Married             Together             Divorced              Married             Together             Together              Married              Married             Divorced             Divorced              Married  ...             Together              Married               Single             Together              Married               Single               Single               Single             Together              Married              Married             Together             Divorced             Together              Married\n",
       "Income                           58138.0              46344.0              71613.0              26646.0              58293.0              62513.0              55635.0              33454.0              30351.0               5648.0                  NaN               7500.0              63033.0              59354.0              17323.0  ...              58554.0              63777.0              57967.0                  NaN              24434.0              11012.0              44802.0              26816.0             666666.0              34421.0              61223.0              64014.0              56981.0              69245.0              52869.0\n",
       "Kidhome                                0                    1                    0                    1                    1                    0                    0                    1                    1                    1                    1                    0                    0                    1                    0  ...                    1                    1                    0                    0                    2                    1                    0                    0                    1                    1                    0                    2                    0                    0                    1\n",
       "Teenhome                               0                    1                    0                    0                    0                    1                    1                    0                    0                    1                    0                    0                    0                    1                    0  ...                    1                    1                    1                    0                    0                    0                    0                    0                    0                    0                    1                    1                    0                    1                    1\n",
       "Dt_Customer          2012-09-04 00:00:00  2014-03-08 00:00:00  2013-08-21 00:00:00  2014-02-10 00:00:00  2014-01-19 00:00:00  2013-09-09 00:00:00  2012-11-13 00:00:00  2013-05-08 00:00:00  2013-06-06 00:00:00  2014-03-13 00:00:00  2013-11-15 00:00:00  2012-11-13 00:00:00  2013-11-15 00:00:00  2013-11-15 00:00:00  2012-10-10 00:00:00  ...  2012-09-26 00:00:00  2013-03-24 00:00:00  2013-03-03 00:00:00  2012-08-12 00:00:00  2014-05-18 00:00:00  2013-03-16 00:00:00  2012-08-21 00:00:00  2012-08-17 00:00:00  2013-06-02 00:00:00  2013-07-01 00:00:00  2013-06-13 00:00:00  2014-06-10 00:00:00  2014-01-25 00:00:00  2014-01-24 00:00:00  2012-10-15 00:00:00\n",
       "Recency                               58                   38                   26                   26                   94                   16                   34                   32                   19                   68                   11                   59                   82                   53                   38  ...                   55                   87                   39                   53                    9                   82                   71                   50                   23                   81                   46                   56                   91                    8                   40\n",
       "MntWines                             635                   11                  426                   11                  173                  520                  235                   76                   14                   28                    5                    6                  194                  233                    3  ...                  368                  457                  229                   32                    3                   24                  853                    5                    9                    3                  709                  406                  908                  428                   84\n",
       "MntFruits                             88                    1                   49                    4                   43                   42                   65                   10                    0                    0                    5                   16                   61                    2                   14  ...                   24                    5                    7                    2                    2                    3                   10                    1                   14                    3                   43                    0                   48                   30                    3\n",
       "MntMeatProducts                      546                    6                  127                   20                  118                   98                  164                   56                   24                    6                    6                   11                  480                   53                   17  ...                   68                  106                  137                 1607                    8                   26                  143                    6                   18                    7                  182                   30                  217                  214                   61\n",
       "MntFishProducts                      172                    2                  111                   10                   46                    0                   50                    3                    3                    1                    0                   11                  225                    3                    6  ...                   38                   15                    4                   12                   20                    7                   13                    3                    8                    6                   42                    0                   32                   80                    2\n",
       "MntSweetProducts                      88                    1                   21                    3                   27                   42                   49                    1                    3                    1                    2                    1                  112                    5                    1  ...                    0                   17                    0                    4                    0                    1                   10                    4                    1                    2                  118                    0                   12                   30                    1\n",
       "MntGoldProds                          88                    6                   42                    5                   15                   14                   27                   23                    2                   13                    1                   16                   30                   14                    5  ...                   88                   53                   91                   22                   17                   23                   20                    3                   12                    9                  247                    8                   24                   61                   21\n",
       "NumDealsPurchases                      3                    2                    1                    2                    5                    2                    4                    2                    1                    1                    1                    1                    1                    3                    1  ...                    6                    8                    5                    0                    2                    3                    2                    1                    4                    1                    2                    7                    1                    2                    3\n",
       "NumWebPurchases                        8                    1                    8                    2                    5                    6                    7                    4                    3                    1                    1                    2                    3                    6                    1  ...                    8                   11                    4                    0                    2                    3                    9                    0                    3                    1                    9                    8                    2                    6                    3\n",
       "NumCatalogPurchases                   10                    1                    2                    0                    3                    4                    3                    0                    0                    0                    0                    0                    4                    1                    0  ...                    2                    1                    2                    0                    1                    1                    4                    0                    1                    0                    3                    2                    3                    5                    1\n",
       "NumStorePurchases                      4                    2                   10                    4                    6                   10                    7                    4                    2                    0                    2                    3                    8                    5                    3  ...                    6                    6                    8                    1                    2                    2                   12                    3                    3                    2                    4                    5                   13                   10                    4\n",
       "NumWebVisitsMonth                      7                    5                    4                    6                    5                    6                    6                    8                    9                   20                    7                    8                    2                    6                    8  ...                    7                    8                    5                    0                    7                    9                    8                    4                    6                    7                    5                    7                    6                    3                    7\n",
       "AcceptedCmp3                           0                    0                    0                    0                    0                    0                    0                    0                    0                    1                    0                    0                    0                    0                    0  ...                    0                    0                    0                    0                    0                    1                    0                    0                    0                    0                    0                    0                    0                    0                    0\n",
       "AcceptedCmp4                           0                    0                    0                    0                    0                    0                    0                    0                    0                    0                    0                    0                    0                    0                    0  ...                    0                    0                    0                    1                    0                    0                    0                    0                    0                    0                    0                    0                    1                    0                    0\n",
       "AcceptedCmp5                           0                    0                    0                    0                    0                    0                    0                    0                    0                    0                    0                    0                    0                    0                    0  ...                    0                    0                    0                    0                    0                    0                    0                    0                    0                    0                    0                    0                    0                    0                    0\n",
       "AcceptedCmp1                           0                    0                    0                    0                    0                    0                    0                    0                    0                    0                    0                    0                    0                    0                    0  ...                    0                    0                    0                    0                    0                    0                    0                    0                    0                    0                    0                    1                    0                    0                    0\n",
       "AcceptedCmp2                           0                    0                    0                    0                    0                    0                    0                    0                    0                    0                    0                    0                    0                    0                    0  ...                    0                    0                    0                    0                    0                    0                    0                    0                    0                    0                    0                    0                    0                    0                    0\n",
       "Complain                               0                    0                    0                    0                    0                    0                    0                    0                    0                    0                    0                    0                    0                    0                    0  ...                    0                    0                    0                    0                    0                    0                    0                    0                    0                    0                    0                    0                    0                    0                    0\n",
       "Z_CostContact                          3                    3                    3                    3                    3                    3                    3                    3                    3                    3                    3                    3                    3                    3                    3  ...                    3                    3                    3                    3                    3                    3                    3                    3                    3                    3                    3                    3                    3                    3                    3\n",
       "Z_Revenue                             11                   11                   11                   11                   11                   11                   11                   11                   11                   11                   11                   11                   11                   11                   11  ...                   11                   11                   11                   11                   11                   11                   11                   11                   11                   11                   11                   11                   11                   11                   11\n",
       "Response                               1                    0                    0                    0                    0                    0                    0                    0                    1                    0                    0                    0                    0                    0                    0  ...                    0                    0                    0                    0                    0                    0                    0                    0                    0                    0                    0                    0                    0                    0                    1\n",
       "\n",
       "[29 rows x 2240 columns]"
      ]
     },
     "execution_count": 12,
     "metadata": {},
     "output_type": "execute_result"
    }
   ],
   "source": [
    "df.T"
   ]
  },
  {
   "cell_type": "code",
   "execution_count": 13,
   "id": "eecf7de1",
   "metadata": {
    "ExecuteTime": {
     "end_time": "2023-03-03T00:11:36.744579Z",
     "start_time": "2023-03-03T00:11:36.506240Z"
    },
    "hidden": true,
    "scrolled": true
   },
   "outputs": [
    {
     "data": {
      "text/html": [
       "<div>\n",
       "<style scoped>\n",
       "    .dataframe tbody tr th:only-of-type {\n",
       "        vertical-align: middle;\n",
       "    }\n",
       "\n",
       "    .dataframe tbody tr th {\n",
       "        vertical-align: top;\n",
       "    }\n",
       "\n",
       "    .dataframe thead th {\n",
       "        text-align: right;\n",
       "    }\n",
       "</style>\n",
       "<table border=\"1\" class=\"dataframe\">\n",
       "  <thead>\n",
       "    <tr style=\"text-align: right;\">\n",
       "      <th></th>\n",
       "      <th>ID</th>\n",
       "      <th>Year_Birth</th>\n",
       "      <th>Income</th>\n",
       "      <th>Kidhome</th>\n",
       "      <th>Teenhome</th>\n",
       "      <th>Recency</th>\n",
       "      <th>MntWines</th>\n",
       "      <th>MntFruits</th>\n",
       "      <th>MntMeatProducts</th>\n",
       "      <th>MntFishProducts</th>\n",
       "      <th>MntSweetProducts</th>\n",
       "      <th>MntGoldProds</th>\n",
       "      <th>NumDealsPurchases</th>\n",
       "      <th>NumWebPurchases</th>\n",
       "      <th>NumCatalogPurchases</th>\n",
       "      <th>NumStorePurchases</th>\n",
       "      <th>NumWebVisitsMonth</th>\n",
       "      <th>AcceptedCmp3</th>\n",
       "      <th>AcceptedCmp4</th>\n",
       "      <th>AcceptedCmp5</th>\n",
       "      <th>AcceptedCmp1</th>\n",
       "      <th>AcceptedCmp2</th>\n",
       "      <th>Complain</th>\n",
       "      <th>Z_CostContact</th>\n",
       "      <th>Z_Revenue</th>\n",
       "      <th>Response</th>\n",
       "    </tr>\n",
       "  </thead>\n",
       "  <tbody>\n",
       "    <tr>\n",
       "      <th>count</th>\n",
       "      <td>2240.000000</td>\n",
       "      <td>2240.000000</td>\n",
       "      <td>2216.000000</td>\n",
       "      <td>2240.000000</td>\n",
       "      <td>2240.000000</td>\n",
       "      <td>2240.000000</td>\n",
       "      <td>2240.000000</td>\n",
       "      <td>2240.000000</td>\n",
       "      <td>2240.000000</td>\n",
       "      <td>2240.000000</td>\n",
       "      <td>2240.000000</td>\n",
       "      <td>2240.000000</td>\n",
       "      <td>2240.000000</td>\n",
       "      <td>2240.000000</td>\n",
       "      <td>2240.000000</td>\n",
       "      <td>2240.000000</td>\n",
       "      <td>2240.000000</td>\n",
       "      <td>2240.000000</td>\n",
       "      <td>2240.000000</td>\n",
       "      <td>2240.000000</td>\n",
       "      <td>2240.000000</td>\n",
       "      <td>2240.000000</td>\n",
       "      <td>2240.000000</td>\n",
       "      <td>2240.0</td>\n",
       "      <td>2240.0</td>\n",
       "      <td>2240.000000</td>\n",
       "    </tr>\n",
       "    <tr>\n",
       "      <th>mean</th>\n",
       "      <td>5592.159821</td>\n",
       "      <td>1968.805804</td>\n",
       "      <td>52247.251354</td>\n",
       "      <td>0.444196</td>\n",
       "      <td>0.506250</td>\n",
       "      <td>49.109375</td>\n",
       "      <td>303.935714</td>\n",
       "      <td>26.302232</td>\n",
       "      <td>166.950000</td>\n",
       "      <td>37.525446</td>\n",
       "      <td>27.062946</td>\n",
       "      <td>44.021875</td>\n",
       "      <td>2.325000</td>\n",
       "      <td>4.084821</td>\n",
       "      <td>2.662054</td>\n",
       "      <td>5.790179</td>\n",
       "      <td>5.316518</td>\n",
       "      <td>0.072768</td>\n",
       "      <td>0.074554</td>\n",
       "      <td>0.072768</td>\n",
       "      <td>0.064286</td>\n",
       "      <td>0.013393</td>\n",
       "      <td>0.009375</td>\n",
       "      <td>3.0</td>\n",
       "      <td>11.0</td>\n",
       "      <td>0.149107</td>\n",
       "    </tr>\n",
       "    <tr>\n",
       "      <th>std</th>\n",
       "      <td>3246.662198</td>\n",
       "      <td>11.984069</td>\n",
       "      <td>25173.076661</td>\n",
       "      <td>0.538398</td>\n",
       "      <td>0.544538</td>\n",
       "      <td>28.962453</td>\n",
       "      <td>336.597393</td>\n",
       "      <td>39.773434</td>\n",
       "      <td>225.715373</td>\n",
       "      <td>54.628979</td>\n",
       "      <td>41.280498</td>\n",
       "      <td>52.167439</td>\n",
       "      <td>1.932238</td>\n",
       "      <td>2.778714</td>\n",
       "      <td>2.923101</td>\n",
       "      <td>3.250958</td>\n",
       "      <td>2.426645</td>\n",
       "      <td>0.259813</td>\n",
       "      <td>0.262728</td>\n",
       "      <td>0.259813</td>\n",
       "      <td>0.245316</td>\n",
       "      <td>0.114976</td>\n",
       "      <td>0.096391</td>\n",
       "      <td>0.0</td>\n",
       "      <td>0.0</td>\n",
       "      <td>0.356274</td>\n",
       "    </tr>\n",
       "    <tr>\n",
       "      <th>min</th>\n",
       "      <td>0.000000</td>\n",
       "      <td>1893.000000</td>\n",
       "      <td>1730.000000</td>\n",
       "      <td>0.000000</td>\n",
       "      <td>0.000000</td>\n",
       "      <td>0.000000</td>\n",
       "      <td>0.000000</td>\n",
       "      <td>0.000000</td>\n",
       "      <td>0.000000</td>\n",
       "      <td>0.000000</td>\n",
       "      <td>0.000000</td>\n",
       "      <td>0.000000</td>\n",
       "      <td>0.000000</td>\n",
       "      <td>0.000000</td>\n",
       "      <td>0.000000</td>\n",
       "      <td>0.000000</td>\n",
       "      <td>0.000000</td>\n",
       "      <td>0.000000</td>\n",
       "      <td>0.000000</td>\n",
       "      <td>0.000000</td>\n",
       "      <td>0.000000</td>\n",
       "      <td>0.000000</td>\n",
       "      <td>0.000000</td>\n",
       "      <td>3.0</td>\n",
       "      <td>11.0</td>\n",
       "      <td>0.000000</td>\n",
       "    </tr>\n",
       "    <tr>\n",
       "      <th>25%</th>\n",
       "      <td>2828.250000</td>\n",
       "      <td>1959.000000</td>\n",
       "      <td>35303.000000</td>\n",
       "      <td>0.000000</td>\n",
       "      <td>0.000000</td>\n",
       "      <td>24.000000</td>\n",
       "      <td>23.750000</td>\n",
       "      <td>1.000000</td>\n",
       "      <td>16.000000</td>\n",
       "      <td>3.000000</td>\n",
       "      <td>1.000000</td>\n",
       "      <td>9.000000</td>\n",
       "      <td>1.000000</td>\n",
       "      <td>2.000000</td>\n",
       "      <td>0.000000</td>\n",
       "      <td>3.000000</td>\n",
       "      <td>3.000000</td>\n",
       "      <td>0.000000</td>\n",
       "      <td>0.000000</td>\n",
       "      <td>0.000000</td>\n",
       "      <td>0.000000</td>\n",
       "      <td>0.000000</td>\n",
       "      <td>0.000000</td>\n",
       "      <td>3.0</td>\n",
       "      <td>11.0</td>\n",
       "      <td>0.000000</td>\n",
       "    </tr>\n",
       "    <tr>\n",
       "      <th>50%</th>\n",
       "      <td>5458.500000</td>\n",
       "      <td>1970.000000</td>\n",
       "      <td>51381.500000</td>\n",
       "      <td>0.000000</td>\n",
       "      <td>0.000000</td>\n",
       "      <td>49.000000</td>\n",
       "      <td>173.500000</td>\n",
       "      <td>8.000000</td>\n",
       "      <td>67.000000</td>\n",
       "      <td>12.000000</td>\n",
       "      <td>8.000000</td>\n",
       "      <td>24.000000</td>\n",
       "      <td>2.000000</td>\n",
       "      <td>4.000000</td>\n",
       "      <td>2.000000</td>\n",
       "      <td>5.000000</td>\n",
       "      <td>6.000000</td>\n",
       "      <td>0.000000</td>\n",
       "      <td>0.000000</td>\n",
       "      <td>0.000000</td>\n",
       "      <td>0.000000</td>\n",
       "      <td>0.000000</td>\n",
       "      <td>0.000000</td>\n",
       "      <td>3.0</td>\n",
       "      <td>11.0</td>\n",
       "      <td>0.000000</td>\n",
       "    </tr>\n",
       "    <tr>\n",
       "      <th>75%</th>\n",
       "      <td>8427.750000</td>\n",
       "      <td>1977.000000</td>\n",
       "      <td>68522.000000</td>\n",
       "      <td>1.000000</td>\n",
       "      <td>1.000000</td>\n",
       "      <td>74.000000</td>\n",
       "      <td>504.250000</td>\n",
       "      <td>33.000000</td>\n",
       "      <td>232.000000</td>\n",
       "      <td>50.000000</td>\n",
       "      <td>33.000000</td>\n",
       "      <td>56.000000</td>\n",
       "      <td>3.000000</td>\n",
       "      <td>6.000000</td>\n",
       "      <td>4.000000</td>\n",
       "      <td>8.000000</td>\n",
       "      <td>7.000000</td>\n",
       "      <td>0.000000</td>\n",
       "      <td>0.000000</td>\n",
       "      <td>0.000000</td>\n",
       "      <td>0.000000</td>\n",
       "      <td>0.000000</td>\n",
       "      <td>0.000000</td>\n",
       "      <td>3.0</td>\n",
       "      <td>11.0</td>\n",
       "      <td>0.000000</td>\n",
       "    </tr>\n",
       "    <tr>\n",
       "      <th>max</th>\n",
       "      <td>11191.000000</td>\n",
       "      <td>1996.000000</td>\n",
       "      <td>666666.000000</td>\n",
       "      <td>2.000000</td>\n",
       "      <td>2.000000</td>\n",
       "      <td>99.000000</td>\n",
       "      <td>1493.000000</td>\n",
       "      <td>199.000000</td>\n",
       "      <td>1725.000000</td>\n",
       "      <td>259.000000</td>\n",
       "      <td>263.000000</td>\n",
       "      <td>362.000000</td>\n",
       "      <td>15.000000</td>\n",
       "      <td>27.000000</td>\n",
       "      <td>28.000000</td>\n",
       "      <td>13.000000</td>\n",
       "      <td>20.000000</td>\n",
       "      <td>1.000000</td>\n",
       "      <td>1.000000</td>\n",
       "      <td>1.000000</td>\n",
       "      <td>1.000000</td>\n",
       "      <td>1.000000</td>\n",
       "      <td>1.000000</td>\n",
       "      <td>3.0</td>\n",
       "      <td>11.0</td>\n",
       "      <td>1.000000</td>\n",
       "    </tr>\n",
       "  </tbody>\n",
       "</table>\n",
       "</div>"
      ],
      "text/plain": [
       "                 ID   Year_Birth         Income      Kidhome     Teenhome      Recency     MntWines    MntFruits  MntMeatProducts  MntFishProducts  MntSweetProducts  MntGoldProds  NumDealsPurchases  NumWebPurchases  NumCatalogPurchases  NumStorePurchases  NumWebVisitsMonth  AcceptedCmp3  AcceptedCmp4  AcceptedCmp5  AcceptedCmp1  AcceptedCmp2     Complain  Z_CostContact  Z_Revenue     Response\n",
       "count   2240.000000  2240.000000    2216.000000  2240.000000  2240.000000  2240.000000  2240.000000  2240.000000      2240.000000      2240.000000       2240.000000   2240.000000        2240.000000      2240.000000          2240.000000        2240.000000        2240.000000   2240.000000   2240.000000   2240.000000   2240.000000   2240.000000  2240.000000         2240.0     2240.0  2240.000000\n",
       "mean    5592.159821  1968.805804   52247.251354     0.444196     0.506250    49.109375   303.935714    26.302232       166.950000        37.525446         27.062946     44.021875           2.325000         4.084821             2.662054           5.790179           5.316518      0.072768      0.074554      0.072768      0.064286      0.013393     0.009375            3.0       11.0     0.149107\n",
       "std     3246.662198    11.984069   25173.076661     0.538398     0.544538    28.962453   336.597393    39.773434       225.715373        54.628979         41.280498     52.167439           1.932238         2.778714             2.923101           3.250958           2.426645      0.259813      0.262728      0.259813      0.245316      0.114976     0.096391            0.0        0.0     0.356274\n",
       "min        0.000000  1893.000000    1730.000000     0.000000     0.000000     0.000000     0.000000     0.000000         0.000000         0.000000          0.000000      0.000000           0.000000         0.000000             0.000000           0.000000           0.000000      0.000000      0.000000      0.000000      0.000000      0.000000     0.000000            3.0       11.0     0.000000\n",
       "25%     2828.250000  1959.000000   35303.000000     0.000000     0.000000    24.000000    23.750000     1.000000        16.000000         3.000000          1.000000      9.000000           1.000000         2.000000             0.000000           3.000000           3.000000      0.000000      0.000000      0.000000      0.000000      0.000000     0.000000            3.0       11.0     0.000000\n",
       "50%     5458.500000  1970.000000   51381.500000     0.000000     0.000000    49.000000   173.500000     8.000000        67.000000        12.000000          8.000000     24.000000           2.000000         4.000000             2.000000           5.000000           6.000000      0.000000      0.000000      0.000000      0.000000      0.000000     0.000000            3.0       11.0     0.000000\n",
       "75%     8427.750000  1977.000000   68522.000000     1.000000     1.000000    74.000000   504.250000    33.000000       232.000000        50.000000         33.000000     56.000000           3.000000         6.000000             4.000000           8.000000           7.000000      0.000000      0.000000      0.000000      0.000000      0.000000     0.000000            3.0       11.0     0.000000\n",
       "max    11191.000000  1996.000000  666666.000000     2.000000     2.000000    99.000000  1493.000000   199.000000      1725.000000       259.000000        263.000000    362.000000          15.000000        27.000000            28.000000          13.000000          20.000000      1.000000      1.000000      1.000000      1.000000      1.000000     1.000000            3.0       11.0     1.000000"
      ]
     },
     "execution_count": 13,
     "metadata": {},
     "output_type": "execute_result"
    }
   ],
   "source": [
    "df.describe()"
   ]
  },
  {
   "cell_type": "code",
   "execution_count": 84,
   "id": "866dbe7e",
   "metadata": {
    "ExecuteTime": {
     "end_time": "2023-03-03T00:49:03.880114Z",
     "start_time": "2023-03-03T00:49:03.872351Z"
    },
    "hidden": true
   },
   "outputs": [],
   "source": [
    "dados_numericos = df.select_dtypes(include=['int64', 'float64'])"
   ]
  },
  {
   "cell_type": "code",
   "execution_count": 15,
   "id": "193cbe60",
   "metadata": {
    "ExecuteTime": {
     "end_time": "2023-03-03T00:11:50.184336Z",
     "start_time": "2023-03-03T00:11:36.785718Z"
    },
    "hidden": true,
    "scrolled": true
   },
   "outputs": [
    {
     "data": {
      "image/png": "[encoded data removed]",
      "text/plain": [
       "<Figure size 1800x1800 with 30 Axes>"
      ]
     },
     "metadata": {},
     "output_type": "display_data"
    }
   ],
   "source": [
    "dados_numericos.hist(figsize=(25, 25), bins=25)"
   ]
  },
  {
   "cell_type": "markdown",
   "id": "4b8a9553",
   "metadata": {
    "heading_collapsed": true
   },
   "source": [
    "# EDA & Features Engineering"
   ]
  },
  {
   "cell_type": "markdown",
   "id": "202268b6",
   "metadata": {
    "hidden": true
   },
   "source": [
    "O dataset foi separado em: \n",
    "\n",
    "- Colunas relacionadas aos clientes → `people` \n",
    "- Colunas relacionadas aos produtos → `products`\n",
    "- Colunas relacionadas às promoções → `promotion`\n",
    "- Colunas relacionadas ao local de compra → `place`"
   ]
  },
  {
   "cell_type": "code",
   "execution_count": 16,
   "id": "7878be43",
   "metadata": {
    "ExecuteTime": {
     "end_time": "2023-03-03T00:11:50.211516Z",
     "start_time": "2023-03-03T00:11:50.194822Z"
    },
    "hidden": true
   },
   "outputs": [
    {
     "data": {
      "text/plain": [
       "Index(['ID', 'Year_Birth', 'Education', 'Marital_Status', 'Income', 'Kidhome',\n",
       "       'Teenhome', 'Dt_Customer', 'Recency', 'MntWines', 'MntFruits',\n",
       "       'MntMeatProducts', 'MntFishProducts', 'MntSweetProducts',\n",
       "       'MntGoldProds', 'NumDealsPurchases', 'NumWebPurchases',\n",
       "       'NumCatalogPurchases', 'NumStorePurchases', 'NumWebVisitsMonth',\n",
       "       'AcceptedCmp3', 'AcceptedCmp4', 'AcceptedCmp5', 'AcceptedCmp1',\n",
       "       'AcceptedCmp2', 'Complain', 'Z_CostContact', 'Z_Revenue', 'Response'],\n",
       "      dtype='object')"
      ]
     },
     "execution_count": 16,
     "metadata": {},
     "output_type": "execute_result"
    }
   ],
   "source": [
    "df.columns"
   ]
  },
  {
   "cell_type": "code",
   "execution_count": 17,
   "id": "9d3db537",
   "metadata": {
    "ExecuteTime": {
     "end_time": "2023-03-03T00:11:50.244662Z",
     "start_time": "2023-03-03T00:11:50.225489Z"
    },
    "hidden": true
   },
   "outputs": [],
   "source": [
    "# dados dos clientes\n",
    "\n",
    "people = df[['ID', 'Year_Birth', 'Education', 'Marital_Status', 'Income', 'Kidhome',\n",
    "             'Teenhome', 'Dt_Customer', 'Recency', 'Complain']]\n",
    "\n",
    "# dados dos produtos\n",
    "\n",
    "products = df[['ID', 'MntWines', 'MntFruits', 'MntMeatProducts', 'MntFishProducts',\n",
    "               'MntSweetProducts', 'MntGoldProds']]\n",
    "\n",
    "# dados das promoções\n",
    "\n",
    "promotion = df[['ID', 'AcceptedCmp1', 'AcceptedCmp2', 'AcceptedCmp3', 'AcceptedCmp4',\n",
    "                'AcceptedCmp5', 'Response']]\n",
    "\n",
    "# dados de local de compra\n",
    "\n",
    "place = df[['ID', 'NumWebPurchases', 'NumCatalogPurchases', 'NumStorePurchases',\n",
    "            'NumDealsPurchases', 'NumWebVisitsMonth']]"
   ]
  },
  {
   "cell_type": "markdown",
   "id": "0e68365d",
   "metadata": {
    "hidden": true
   },
   "source": [
    "Variáveis destacadas com `*` correspondem às variáveis novas (Features Engineering)."
   ]
  },
  {
   "cell_type": "markdown",
   "id": "4db252b1",
   "metadata": {
    "heading_collapsed": true,
    "hidden": true
   },
   "source": [
    "### Dados dos clientes"
   ]
  },
  {
   "cell_type": "markdown",
   "id": "fe3b4c03",
   "metadata": {
    "heading_collapsed": true,
    "hidden": true
   },
   "source": [
    "#### Income"
   ]
  },
  {
   "cell_type": "markdown",
   "id": "e3721e43",
   "metadata": {
    "hidden": true
   },
   "source": [
    "Mostrando a porcentagem de dados nulos da coluna `Income`."
   ]
  },
  {
   "cell_type": "code",
   "execution_count": 18,
   "id": "3f13bfc0",
   "metadata": {
    "ExecuteTime": {
     "end_time": "2023-03-03T00:11:50.315361Z",
     "start_time": "2023-03-03T00:11:50.248232Z"
    },
    "hidden": true
   },
   "outputs": [
    {
     "data": {
      "text/html": [
       "<div>\n",
       "<style scoped>\n",
       "    .dataframe tbody tr th:only-of-type {\n",
       "        vertical-align: middle;\n",
       "    }\n",
       "\n",
       "    .dataframe tbody tr th {\n",
       "        vertical-align: top;\n",
       "    }\n",
       "\n",
       "    .dataframe thead th {\n",
       "        text-align: right;\n",
       "    }\n",
       "</style>\n",
       "<table border=\"1\" class=\"dataframe\">\n",
       "  <thead>\n",
       "    <tr style=\"text-align: right;\">\n",
       "      <th></th>\n",
       "      <th>#</th>\n",
       "      <th>% null</th>\n",
       "      <th>type</th>\n",
       "    </tr>\n",
       "  </thead>\n",
       "  <tbody>\n",
       "    <tr>\n",
       "      <th>Income</th>\n",
       "      <td>24</td>\n",
       "      <td>0.010714</td>\n",
       "      <td>float64</td>\n",
       "    </tr>\n",
       "    <tr>\n",
       "      <th>ID</th>\n",
       "      <td>0</td>\n",
       "      <td>0.000000</td>\n",
       "      <td>int64</td>\n",
       "    </tr>\n",
       "    <tr>\n",
       "      <th>Year_Birth</th>\n",
       "      <td>0</td>\n",
       "      <td>0.000000</td>\n",
       "      <td>int64</td>\n",
       "    </tr>\n",
       "    <tr>\n",
       "      <th>Education</th>\n",
       "      <td>0</td>\n",
       "      <td>0.000000</td>\n",
       "      <td>object</td>\n",
       "    </tr>\n",
       "    <tr>\n",
       "      <th>Marital_Status</th>\n",
       "      <td>0</td>\n",
       "      <td>0.000000</td>\n",
       "      <td>object</td>\n",
       "    </tr>\n",
       "    <tr>\n",
       "      <th>Kidhome</th>\n",
       "      <td>0</td>\n",
       "      <td>0.000000</td>\n",
       "      <td>int64</td>\n",
       "    </tr>\n",
       "    <tr>\n",
       "      <th>Teenhome</th>\n",
       "      <td>0</td>\n",
       "      <td>0.000000</td>\n",
       "      <td>int64</td>\n",
       "    </tr>\n",
       "    <tr>\n",
       "      <th>Dt_Customer</th>\n",
       "      <td>0</td>\n",
       "      <td>0.000000</td>\n",
       "      <td>datetime64[ns]</td>\n",
       "    </tr>\n",
       "    <tr>\n",
       "      <th>Recency</th>\n",
       "      <td>0</td>\n",
       "      <td>0.000000</td>\n",
       "      <td>int64</td>\n",
       "    </tr>\n",
       "    <tr>\n",
       "      <th>Complain</th>\n",
       "      <td>0</td>\n",
       "      <td>0.000000</td>\n",
       "      <td>int64</td>\n",
       "    </tr>\n",
       "  </tbody>\n",
       "</table>\n",
       "</div>"
      ],
      "text/plain": [
       "                 #    % null            type\n",
       "Income          24  0.010714         float64\n",
       "ID               0  0.000000           int64\n",
       "Year_Birth       0  0.000000           int64\n",
       "Education        0  0.000000          object\n",
       "Marital_Status   0  0.000000          object\n",
       "Kidhome          0  0.000000           int64\n",
       "Teenhome         0  0.000000           int64\n",
       "Dt_Customer      0  0.000000  datetime64[ns]\n",
       "Recency          0  0.000000           int64\n",
       "Complain         0  0.000000           int64"
      ]
     },
     "execution_count": 18,
     "metadata": {},
     "output_type": "execute_result"
    }
   ],
   "source": [
    "show_null(people)"
   ]
  },
  {
   "cell_type": "markdown",
   "id": "964c21ae",
   "metadata": {
    "hidden": true
   },
   "source": [
    "Os dados correspondem a 1%, por esse motivo, foi decidido dropar os dados nulos."
   ]
  },
  {
   "cell_type": "code",
   "execution_count": 19,
   "id": "39b516b7",
   "metadata": {
    "ExecuteTime": {
     "end_time": "2023-03-03T00:11:50.332586Z",
     "start_time": "2023-03-03T00:11:50.318617Z"
    },
    "hidden": true
   },
   "outputs": [],
   "source": [
    "people.dropna(inplace=True)"
   ]
  },
  {
   "cell_type": "markdown",
   "id": "c5362242",
   "metadata": {
    "hidden": true
   },
   "source": [
    "Verificando e removendo outliers da coluna `Income`."
   ]
  },
  {
   "cell_type": "code",
   "execution_count": 20,
   "id": "ef27f443",
   "metadata": {
    "ExecuteTime": {
     "end_time": "2023-03-03T00:11:50.997521Z",
     "start_time": "2023-03-03T00:11:50.336175Z"
    },
    "hidden": true
   },
   "outputs": [
    {
     "data": {
      "image/png": "[encoded data removed]",
      "text/plain": [
       "<Figure size 864x576 with 2 Axes>"
      ]
     },
     "metadata": {},
     "output_type": "display_data"
    }
   ],
   "source": [
    "plot_num(people, 'Income')"
   ]
  },
  {
   "cell_type": "code",
   "execution_count": 21,
   "id": "2d8fac67",
   "metadata": {
    "ExecuteTime": {
     "end_time": "2023-03-03T00:11:51.022899Z",
     "start_time": "2023-03-03T00:11:51.003172Z"
    },
    "hidden": true
   },
   "outputs": [],
   "source": [
    "people = people[people.Income < 200000]"
   ]
  },
  {
   "cell_type": "markdown",
   "id": "41100ab9",
   "metadata": {
    "ExecuteTime": {
     "end_time": "2023-03-02T20:51:23.770726Z",
     "start_time": "2023-03-02T20:51:23.722662Z"
    },
    "hidden": true
   },
   "source": [
    "Checando modificações."
   ]
  },
  {
   "cell_type": "code",
   "execution_count": 22,
   "id": "82205119",
   "metadata": {
    "ExecuteTime": {
     "end_time": "2023-03-03T00:11:51.687453Z",
     "start_time": "2023-03-03T00:11:51.031127Z"
    },
    "hidden": true
   },
   "outputs": [
    {
     "data": {
      "image/png": "[encoded data removed]",
      "text/plain": [
       "<Figure size 864x576 with 2 Axes>"
      ]
     },
     "metadata": {},
     "output_type": "display_data"
    }
   ],
   "source": [
    "plot_num(people, 'Income')"
   ]
  },
  {
   "cell_type": "markdown",
   "id": "97c141ab",
   "metadata": {
    "heading_collapsed": true,
    "hidden": true
   },
   "source": [
    "#### Year_Birth"
   ]
  },
  {
   "cell_type": "markdown",
   "id": "8c29a114",
   "metadata": {
    "hidden": true
   },
   "source": [
    "Verificando e removendo outliers da coluna `Year_Birth`."
   ]
  },
  {
   "cell_type": "code",
   "execution_count": 23,
   "id": "99e34fcf",
   "metadata": {
    "ExecuteTime": {
     "end_time": "2023-03-03T00:11:52.634217Z",
     "start_time": "2023-03-03T00:11:51.694732Z"
    },
    "hidden": true
   },
   "outputs": [
    {
     "data": {
      "image/png": "[encoded data removed]",
      "text/plain": [
       "<Figure size 864x576 with 2 Axes>"
      ]
     },
     "metadata": {},
     "output_type": "display_data"
    }
   ],
   "source": [
    "plot_num(people, 'Year_Birth')"
   ]
  },
  {
   "cell_type": "code",
   "execution_count": 24,
   "id": "683ba162",
   "metadata": {
    "ExecuteTime": {
     "end_time": "2023-03-03T00:11:52.648593Z",
     "start_time": "2023-03-03T00:11:52.638696Z"
    },
    "hidden": true
   },
   "outputs": [],
   "source": [
    "people = people[people.Year_Birth > 1930]"
   ]
  },
  {
   "cell_type": "markdown",
   "id": "e7acc536",
   "metadata": {
    "hidden": true
   },
   "source": [
    "Checando modificações."
   ]
  },
  {
   "cell_type": "code",
   "execution_count": 25,
   "id": "f8fdd5d0",
   "metadata": {
    "ExecuteTime": {
     "end_time": "2023-03-03T00:11:53.158310Z",
     "start_time": "2023-03-03T00:11:52.656367Z"
    },
    "hidden": true
   },
   "outputs": [
    {
     "data": {
      "image/png": "[encoded data removed]",
      "text/plain": [
       "<Figure size 864x576 with 2 Axes>"
      ]
     },
     "metadata": {},
     "output_type": "display_data"
    }
   ],
   "source": [
    "plot_num(people, 'Year_Birth')"
   ]
  },
  {
   "cell_type": "markdown",
   "id": "ec0e6f35",
   "metadata": {
    "heading_collapsed": true,
    "hidden": true
   },
   "source": [
    "#### Education"
   ]
  },
  {
   "cell_type": "code",
   "execution_count": 26,
   "id": "e32d1bfd",
   "metadata": {
    "ExecuteTime": {
     "end_time": "2023-03-03T00:11:53.636457Z",
     "start_time": "2023-03-03T00:11:53.162081Z"
    },
    "hidden": true
   },
   "outputs": [
    {
     "data": {
      "image/png": "[encoded data removed]",
      "text/plain": [
       "<Figure size 864x576 with 1 Axes>"
      ]
     },
     "metadata": {},
     "output_type": "display_data"
    }
   ],
   "source": [
    "plot_cat(people, 'Education')"
   ]
  },
  {
   "cell_type": "markdown",
   "id": "7ab675bd",
   "metadata": {
    "ExecuteTime": {
     "end_time": "2023-03-02T21:37:32.066223Z",
     "start_time": "2023-03-02T21:37:32.054438Z"
    },
    "hidden": true
   },
   "source": [
    "Realizando o Encoding do tipo _Ordinal encoding_ na coluna `Education`."
   ]
  },
  {
   "cell_type": "markdown",
   "id": "0bfc8145",
   "metadata": {
    "hidden": true
   },
   "source": [
    "0 - Basic  \n",
    "1 - 2n Cycle  \n",
    "2 - Graduation  \n",
    "3 - Master  \n",
    "4 - PhD  "
   ]
  },
  {
   "cell_type": "code",
   "execution_count": 27,
   "id": "6d9147d0",
   "metadata": {
    "ExecuteTime": {
     "end_time": "2023-03-03T00:11:53.652931Z",
     "start_time": "2023-03-03T00:11:53.640079Z"
    },
    "hidden": true
   },
   "outputs": [],
   "source": [
    "people.Education = people.Education.apply(lambda x: 0 if x == 'Basic'\n",
    "                                          else (1 if x == '2n Cycle'\n",
    "                                                else (2 if x == 'Graduation'\n",
    "                                                      else (3 if x == 'Master'\n",
    "                                                            else (4 if x == 'PhD' else None)))))"
   ]
  },
  {
   "cell_type": "code",
   "execution_count": 28,
   "id": "4a319fe5",
   "metadata": {
    "ExecuteTime": {
     "end_time": "2023-03-03T00:11:54.195171Z",
     "start_time": "2023-03-03T00:11:53.656578Z"
    },
    "hidden": true
   },
   "outputs": [
    {
     "data": {
      "image/png": "[encoded data removed]",
      "text/plain": [
       "<Figure size 864x576 with 1 Axes>"
      ]
     },
     "metadata": {},
     "output_type": "display_data"
    }
   ],
   "source": [
    "plot_cat(people, 'Education')"
   ]
  },
  {
   "cell_type": "markdown",
   "id": "2af2441f",
   "metadata": {
    "heading_collapsed": true,
    "hidden": true
   },
   "source": [
    "#### Marital_Status"
   ]
  },
  {
   "cell_type": "code",
   "execution_count": 29,
   "id": "da37f5da",
   "metadata": {
    "ExecuteTime": {
     "end_time": "2023-03-03T00:11:54.762524Z",
     "start_time": "2023-03-03T00:11:54.199284Z"
    },
    "hidden": true
   },
   "outputs": [
    {
     "data": {
      "image/png": "[encoded data removed]",
      "text/plain": [
       "<Figure size 864x576 with 1 Axes>"
      ]
     },
     "metadata": {},
     "output_type": "display_data"
    }
   ],
   "source": [
    "plot_cat(people, 'Marital_Status')"
   ]
  },
  {
   "cell_type": "markdown",
   "id": "eca0898f",
   "metadata": {
    "hidden": true
   },
   "source": [
    "Verificando e uniformizando algumas categorias da variável `Marital_Status`."
   ]
  },
  {
   "cell_type": "code",
   "execution_count": 30,
   "id": "5491bd7a",
   "metadata": {
    "ExecuteTime": {
     "end_time": "2023-03-03T00:11:54.777270Z",
     "start_time": "2023-03-03T00:11:54.766346Z"
    },
    "hidden": true
   },
   "outputs": [],
   "source": [
    "people = people[people.Marital_Status != 'Absurd']"
   ]
  },
  {
   "cell_type": "code",
   "execution_count": 31,
   "id": "0fc54404",
   "metadata": {
    "ExecuteTime": {
     "end_time": "2023-03-03T00:11:54.793088Z",
     "start_time": "2023-03-03T00:11:54.784971Z"
    },
    "hidden": true
   },
   "outputs": [],
   "source": [
    "people.Marital_Status = people.Marital_Status.apply(lambda x: 'Single' if x == 'Alone'\n",
    "                                                    else ('Single' if x == 'YOLO' else x))"
   ]
  },
  {
   "cell_type": "code",
   "execution_count": 32,
   "id": "e874d1b2",
   "metadata": {
    "ExecuteTime": {
     "end_time": "2023-03-03T00:11:54.807369Z",
     "start_time": "2023-03-03T00:11:54.797404Z"
    },
    "hidden": true
   },
   "outputs": [],
   "source": [
    "people.Marital_Status = people.Marital_Status.apply(\n",
    "    lambda x: 'Together' if x == 'Married' else x)"
   ]
  },
  {
   "cell_type": "code",
   "execution_count": 33,
   "id": "a2c48b2d",
   "metadata": {
    "ExecuteTime": {
     "end_time": "2023-03-03T00:11:55.273291Z",
     "start_time": "2023-03-03T00:11:54.812325Z"
    },
    "hidden": true
   },
   "outputs": [
    {
     "data": {
      "image/png": "[encoded data removed]",
      "text/plain": [
       "<Figure size 864x576 with 1 Axes>"
      ]
     },
     "metadata": {},
     "output_type": "display_data"
    }
   ],
   "source": [
    "plot_cat(people, 'Marital_Status')"
   ]
  },
  {
   "cell_type": "markdown",
   "id": "9a846241",
   "metadata": {
    "hidden": true
   },
   "source": [
    "Realizando o Encoding do tipo _One hot encoding_ na coluna `Marital_Status`."
   ]
  },
  {
   "cell_type": "code",
   "execution_count": 34,
   "id": "8686fab9",
   "metadata": {
    "ExecuteTime": {
     "end_time": "2023-03-03T00:11:55.290028Z",
     "start_time": "2023-03-03T00:11:55.276718Z"
    },
    "hidden": true
   },
   "outputs": [],
   "source": [
    "people = pd.get_dummies(people)"
   ]
  },
  {
   "cell_type": "code",
   "execution_count": 35,
   "id": "5de940f8",
   "metadata": {
    "ExecuteTime": {
     "end_time": "2023-03-03T00:11:55.324514Z",
     "start_time": "2023-03-03T00:11:55.304972Z"
    },
    "hidden": true
   },
   "outputs": [
    {
     "data": {
      "text/plain": [
       "Index(['ID', 'Year_Birth', 'Education', 'Income', 'Kidhome', 'Teenhome',\n",
       "       'Dt_Customer', 'Recency', 'Complain', 'Marital_Status_Divorced',\n",
       "       'Marital_Status_Single', 'Marital_Status_Together',\n",
       "       'Marital_Status_Widow'],\n",
       "      dtype='object')"
      ]
     },
     "execution_count": 35,
     "metadata": {},
     "output_type": "execute_result"
    }
   ],
   "source": [
    "people.columns"
   ]
  },
  {
   "cell_type": "markdown",
   "id": "b5e21a84",
   "metadata": {
    "heading_collapsed": true,
    "hidden": true
   },
   "source": [
    "#### Kidhome"
   ]
  },
  {
   "cell_type": "code",
   "execution_count": 36,
   "id": "c1fadac6",
   "metadata": {
    "ExecuteTime": {
     "end_time": "2023-03-03T00:11:55.732244Z",
     "start_time": "2023-03-03T00:11:55.327995Z"
    },
    "hidden": true
   },
   "outputs": [
    {
     "data": {
      "image/png": "[encoded data removed]",
      "text/plain": [
       "<Figure size 864x576 with 1 Axes>"
      ]
     },
     "metadata": {},
     "output_type": "display_data"
    }
   ],
   "source": [
    "plot_cat(people, 'Kidhome')"
   ]
  },
  {
   "cell_type": "markdown",
   "id": "5a84bbae",
   "metadata": {
    "heading_collapsed": true,
    "hidden": true
   },
   "source": [
    "#### Teenhome"
   ]
  },
  {
   "cell_type": "code",
   "execution_count": 37,
   "id": "697ce2ad",
   "metadata": {
    "ExecuteTime": {
     "end_time": "2023-03-03T00:11:56.154849Z",
     "start_time": "2023-03-03T00:11:55.736074Z"
    },
    "hidden": true
   },
   "outputs": [
    {
     "data": {
      "image/png": "[encoded data removed]",
      "text/plain": [
       "<Figure size 864x576 with 1 Axes>"
      ]
     },
     "metadata": {},
     "output_type": "display_data"
    }
   ],
   "source": [
    "plot_cat(people, 'Teenhome')"
   ]
  },
  {
   "cell_type": "markdown",
   "id": "08851759",
   "metadata": {
    "heading_collapsed": true,
    "hidden": true
   },
   "source": [
    "#### ChildrenHome *"
   ]
  },
  {
   "cell_type": "markdown",
   "id": "46bae156",
   "metadata": {
    "hidden": true
   },
   "source": [
    "Somando os dados das colunas `Kidhome` e `Teenhome`  para gerar a coluna nova `ChildrenHome`."
   ]
  },
  {
   "cell_type": "code",
   "execution_count": 38,
   "id": "07726698",
   "metadata": {
    "ExecuteTime": {
     "end_time": "2023-03-03T00:11:56.166451Z",
     "start_time": "2023-03-03T00:11:56.158548Z"
    },
    "hidden": true
   },
   "outputs": [],
   "source": [
    "people['ChildrenHome'] = people.Kidhome + people.Teenhome"
   ]
  },
  {
   "cell_type": "code",
   "execution_count": 39,
   "id": "6104e645",
   "metadata": {
    "ExecuteTime": {
     "end_time": "2023-03-03T00:11:56.566787Z",
     "start_time": "2023-03-03T00:11:56.170034Z"
    },
    "hidden": true
   },
   "outputs": [
    {
     "data": {
      "image/png": "[encoded data removed]",
      "text/plain": [
       "<Figure size 864x576 with 1 Axes>"
      ]
     },
     "metadata": {},
     "output_type": "display_data"
    }
   ],
   "source": [
    "plot_cat(people, 'ChildrenHome')"
   ]
  },
  {
   "cell_type": "code",
   "execution_count": 40,
   "id": "fe418924",
   "metadata": {
    "ExecuteTime": {
     "end_time": "2023-03-03T00:11:56.590206Z",
     "start_time": "2023-03-03T00:11:56.575550Z"
    },
    "hidden": true
   },
   "outputs": [],
   "source": [
    "people.drop(columns=['Kidhome', 'Teenhome'], inplace=True)"
   ]
  },
  {
   "cell_type": "markdown",
   "id": "4d9a031c",
   "metadata": {
    "heading_collapsed": true,
    "hidden": true
   },
   "source": [
    "#### Dt_Customer"
   ]
  },
  {
   "cell_type": "markdown",
   "id": "4080d5e9",
   "metadata": {
    "hidden": true
   },
   "source": [
    "Verificando a `Dt_Customer`, coluna correspondente a data de cadastro do cliente na empresae e a coluna `Recency`, que corresponde ao nº de dias desde a última compra do cliente para definir o tempo de vida do usuário.\n",
    "\n",
    "`LifeTime`: última data de compra - a data de cadastro inicial."
   ]
  },
  {
   "cell_type": "code",
   "execution_count": 41,
   "id": "38dc3c5b",
   "metadata": {
    "ExecuteTime": {
     "end_time": "2023-03-03T00:11:56.632130Z",
     "start_time": "2023-03-03T00:11:56.600763Z"
    },
    "hidden": true
   },
   "outputs": [
    {
     "data": {
      "text/plain": [
       "Timestamp('2012-07-30 00:00:00')"
      ]
     },
     "execution_count": 41,
     "metadata": {},
     "output_type": "execute_result"
    }
   ],
   "source": [
    "people.Dt_Customer.min()"
   ]
  },
  {
   "cell_type": "code",
   "execution_count": 42,
   "id": "eb430e7d",
   "metadata": {
    "ExecuteTime": {
     "end_time": "2023-03-03T00:11:56.652349Z",
     "start_time": "2023-03-03T00:11:56.637536Z"
    },
    "hidden": true
   },
   "outputs": [
    {
     "data": {
      "text/plain": [
       "Timestamp('2014-06-29 00:00:00')"
      ]
     },
     "execution_count": 42,
     "metadata": {},
     "output_type": "execute_result"
    }
   ],
   "source": [
    "people.Dt_Customer.max()"
   ]
  },
  {
   "cell_type": "code",
   "execution_count": 43,
   "id": "a0363450",
   "metadata": {
    "ExecuteTime": {
     "end_time": "2023-03-03T00:11:56.678222Z",
     "start_time": "2023-03-03T00:11:56.655643Z"
    },
    "hidden": true
   },
   "outputs": [
    {
     "data": {
      "text/plain": [
       "Timestamp('2014-10-04 00:00:00')"
      ]
     },
     "execution_count": 43,
     "metadata": {},
     "output_type": "execute_result"
    }
   ],
   "source": [
    "(people['Dt_Customer'] + pd.to_timedelta(people['Recency'], unit='d')).max()"
   ]
  },
  {
   "cell_type": "markdown",
   "id": "29ad9485",
   "metadata": {
    "heading_collapsed": true,
    "hidden": true
   },
   "source": [
    "#### LifeTime *"
   ]
  },
  {
   "cell_type": "markdown",
   "id": "9e33b7da",
   "metadata": {
    "hidden": true
   },
   "source": [
    "Criando a variável nova `LifeTime`."
   ]
  },
  {
   "cell_type": "code",
   "execution_count": 44,
   "id": "8e7f11b4",
   "metadata": {
    "ExecuteTime": {
     "end_time": "2023-03-03T00:11:56.721039Z",
     "start_time": "2023-03-03T00:11:56.687771Z"
    },
    "hidden": true
   },
   "outputs": [],
   "source": [
    "people['LifeTime'] = (pd.to_datetime('2014-10-05') -\n",
    "                      people['Dt_Customer']).dt.days/30"
   ]
  },
  {
   "cell_type": "code",
   "execution_count": 45,
   "id": "4251d30c",
   "metadata": {
    "ExecuteTime": {
     "end_time": "2023-03-03T00:11:57.321667Z",
     "start_time": "2023-03-03T00:11:56.729677Z"
    },
    "hidden": true
   },
   "outputs": [
    {
     "data": {
      "image/png": "[encoded data removed]",
      "text/plain": [
       "<Figure size 864x576 with 2 Axes>"
      ]
     },
     "metadata": {},
     "output_type": "display_data"
    }
   ],
   "source": [
    "plot_num(people, 'LifeTime')"
   ]
  },
  {
   "cell_type": "markdown",
   "id": "db346786",
   "metadata": {
    "hidden": true
   },
   "source": [
    "Excluindo a variável `Dt_Customer`, pois não será utilizada."
   ]
  },
  {
   "cell_type": "code",
   "execution_count": 46,
   "id": "a17b1fcf",
   "metadata": {
    "ExecuteTime": {
     "end_time": "2023-03-03T00:11:57.350450Z",
     "start_time": "2023-03-03T00:11:57.335560Z"
    },
    "hidden": true
   },
   "outputs": [],
   "source": [
    "people.drop(columns=['Dt_Customer'], inplace=True)"
   ]
  },
  {
   "cell_type": "markdown",
   "id": "bb3e673e",
   "metadata": {
    "heading_collapsed": true,
    "hidden": true
   },
   "source": [
    "#### Recency"
   ]
  },
  {
   "cell_type": "code",
   "execution_count": 47,
   "id": "01729fbc",
   "metadata": {
    "ExecuteTime": {
     "end_time": "2023-03-03T00:11:58.076635Z",
     "start_time": "2023-03-03T00:11:57.361106Z"
    },
    "hidden": true,
    "scrolled": true
   },
   "outputs": [
    {
     "data": {
      "image/png": "[encoded data removed]",
      "text/plain": [
       "<Figure size 864x576 with 2 Axes>"
      ]
     },
     "metadata": {},
     "output_type": "display_data"
    }
   ],
   "source": [
    "plot_num(people, 'Recency')"
   ]
  },
  {
   "cell_type": "markdown",
   "id": "47ae9ed6",
   "metadata": {
    "heading_collapsed": true,
    "hidden": true
   },
   "source": [
    "#### Complain"
   ]
  },
  {
   "cell_type": "code",
   "execution_count": 48,
   "id": "024890e2",
   "metadata": {
    "ExecuteTime": {
     "end_time": "2023-03-03T00:11:58.597431Z",
     "start_time": "2023-03-03T00:11:58.092124Z"
    },
    "hidden": true
   },
   "outputs": [
    {
     "data": {
      "image/png": "[encoded data removed]",
      "text/plain": [
       "<Figure size 864x576 with 1 Axes>"
      ]
     },
     "metadata": {},
     "output_type": "display_data"
    }
   ],
   "source": [
    "plot_cat(people, 'Complain')"
   ]
  },
  {
   "cell_type": "markdown",
   "id": "3ebab15b",
   "metadata": {
    "hidden": true
   },
   "source": [
    "É possível verificar que a variável `Complain` não oferece a variação necessária para gerar clusters, por esse motivo, será excluída."
   ]
  },
  {
   "cell_type": "code",
   "execution_count": 49,
   "id": "dc30c953",
   "metadata": {
    "ExecuteTime": {
     "end_time": "2023-03-03T00:11:58.623106Z",
     "start_time": "2023-03-03T00:11:58.606493Z"
    },
    "hidden": true
   },
   "outputs": [],
   "source": [
    "people.drop(columns=['Complain'], inplace=True)"
   ]
  },
  {
   "cell_type": "markdown",
   "id": "a1291e48",
   "metadata": {
    "heading_collapsed": true,
    "hidden": true
   },
   "source": [
    "#### Visão geral das variáveis relacionadas aos clientes"
   ]
  },
  {
   "cell_type": "code",
   "execution_count": 50,
   "id": "f4c525b5",
   "metadata": {
    "ExecuteTime": {
     "end_time": "2023-03-03T00:11:58.668834Z",
     "start_time": "2023-03-03T00:11:58.636209Z"
    },
    "hidden": true,
    "scrolled": true
   },
   "outputs": [
    {
     "data": {
      "text/html": [
       "<div>\n",
       "<style scoped>\n",
       "    .dataframe tbody tr th:only-of-type {\n",
       "        vertical-align: middle;\n",
       "    }\n",
       "\n",
       "    .dataframe tbody tr th {\n",
       "        vertical-align: top;\n",
       "    }\n",
       "\n",
       "    .dataframe thead th {\n",
       "        text-align: right;\n",
       "    }\n",
       "</style>\n",
       "<table border=\"1\" class=\"dataframe\">\n",
       "  <thead>\n",
       "    <tr style=\"text-align: right;\">\n",
       "      <th></th>\n",
       "      <th>ID</th>\n",
       "      <th>Year_Birth</th>\n",
       "      <th>Education</th>\n",
       "      <th>Income</th>\n",
       "      <th>Recency</th>\n",
       "      <th>Marital_Status_Divorced</th>\n",
       "      <th>Marital_Status_Single</th>\n",
       "      <th>Marital_Status_Together</th>\n",
       "      <th>Marital_Status_Widow</th>\n",
       "      <th>ChildrenHome</th>\n",
       "      <th>LifeTime</th>\n",
       "    </tr>\n",
       "  </thead>\n",
       "  <tbody>\n",
       "    <tr>\n",
       "      <th>0</th>\n",
       "      <td>5524</td>\n",
       "      <td>1957</td>\n",
       "      <td>2</td>\n",
       "      <td>58138.0</td>\n",
       "      <td>58</td>\n",
       "      <td>0</td>\n",
       "      <td>1</td>\n",
       "      <td>0</td>\n",
       "      <td>0</td>\n",
       "      <td>0</td>\n",
       "      <td>25.366667</td>\n",
       "    </tr>\n",
       "    <tr>\n",
       "      <th>1</th>\n",
       "      <td>2174</td>\n",
       "      <td>1954</td>\n",
       "      <td>2</td>\n",
       "      <td>46344.0</td>\n",
       "      <td>38</td>\n",
       "      <td>0</td>\n",
       "      <td>1</td>\n",
       "      <td>0</td>\n",
       "      <td>0</td>\n",
       "      <td>2</td>\n",
       "      <td>7.033333</td>\n",
       "    </tr>\n",
       "    <tr>\n",
       "      <th>2</th>\n",
       "      <td>4141</td>\n",
       "      <td>1965</td>\n",
       "      <td>2</td>\n",
       "      <td>71613.0</td>\n",
       "      <td>26</td>\n",
       "      <td>0</td>\n",
       "      <td>0</td>\n",
       "      <td>1</td>\n",
       "      <td>0</td>\n",
       "      <td>0</td>\n",
       "      <td>13.666667</td>\n",
       "    </tr>\n",
       "    <tr>\n",
       "      <th>3</th>\n",
       "      <td>6182</td>\n",
       "      <td>1984</td>\n",
       "      <td>2</td>\n",
       "      <td>26646.0</td>\n",
       "      <td>26</td>\n",
       "      <td>0</td>\n",
       "      <td>0</td>\n",
       "      <td>1</td>\n",
       "      <td>0</td>\n",
       "      <td>1</td>\n",
       "      <td>7.900000</td>\n",
       "    </tr>\n",
       "    <tr>\n",
       "      <th>4</th>\n",
       "      <td>5324</td>\n",
       "      <td>1981</td>\n",
       "      <td>4</td>\n",
       "      <td>58293.0</td>\n",
       "      <td>94</td>\n",
       "      <td>0</td>\n",
       "      <td>0</td>\n",
       "      <td>1</td>\n",
       "      <td>0</td>\n",
       "      <td>1</td>\n",
       "      <td>8.633333</td>\n",
       "    </tr>\n",
       "  </tbody>\n",
       "</table>\n",
       "</div>"
      ],
      "text/plain": [
       "     ID  Year_Birth  Education   Income  Recency  Marital_Status_Divorced  Marital_Status_Single  Marital_Status_Together  Marital_Status_Widow  ChildrenHome   LifeTime\n",
       "0  5524        1957          2  58138.0       58                        0                      1                        0                     0             0  25.366667\n",
       "1  2174        1954          2  46344.0       38                        0                      1                        0                     0             2   7.033333\n",
       "2  4141        1965          2  71613.0       26                        0                      0                        1                     0             0  13.666667\n",
       "3  6182        1984          2  26646.0       26                        0                      0                        1                     0             1   7.900000\n",
       "4  5324        1981          4  58293.0       94                        0                      0                        1                     0             1   8.633333"
      ]
     },
     "execution_count": 50,
     "metadata": {},
     "output_type": "execute_result"
    }
   ],
   "source": [
    "people.head()"
   ]
  },
  {
   "cell_type": "markdown",
   "id": "1a960df9",
   "metadata": {
    "heading_collapsed": true,
    "hidden": true
   },
   "source": [
    "### Dados dos produtos"
   ]
  },
  {
   "cell_type": "markdown",
   "id": "11a0d695",
   "metadata": {
    "heading_collapsed": true,
    "hidden": true
   },
   "source": [
    "####  MntWines"
   ]
  },
  {
   "cell_type": "code",
   "execution_count": 51,
   "id": "8d82da84",
   "metadata": {
    "ExecuteTime": {
     "end_time": "2023-03-03T00:11:59.393799Z",
     "start_time": "2023-03-03T00:11:58.683833Z"
    },
    "hidden": true
   },
   "outputs": [
    {
     "data": {
      "image/png": "[encoded data removed]",
      "text/plain": [
       "<Figure size 864x576 with 2 Axes>"
      ]
     },
     "metadata": {},
     "output_type": "display_data"
    }
   ],
   "source": [
    "plot_num(products, 'MntWines')"
   ]
  },
  {
   "cell_type": "markdown",
   "id": "42432acd",
   "metadata": {
    "heading_collapsed": true,
    "hidden": true
   },
   "source": [
    "#### MntFruits"
   ]
  },
  {
   "cell_type": "code",
   "execution_count": 52,
   "id": "ccfdfdd9",
   "metadata": {
    "ExecuteTime": {
     "end_time": "2023-03-03T00:12:00.043140Z",
     "start_time": "2023-03-03T00:11:59.405000Z"
    },
    "hidden": true
   },
   "outputs": [
    {
     "data": {
      "image/png": "[encoded data removed]",
      "text/plain": [
       "<Figure size 864x576 with 2 Axes>"
      ]
     },
     "metadata": {},
     "output_type": "display_data"
    }
   ],
   "source": [
    "plot_num(products, 'MntFruits')"
   ]
  },
  {
   "cell_type": "markdown",
   "id": "212f3db3",
   "metadata": {
    "heading_collapsed": true,
    "hidden": true
   },
   "source": [
    "#### MntMeatProducts"
   ]
  },
  {
   "cell_type": "code",
   "execution_count": 53,
   "id": "6cf4f35a",
   "metadata": {
    "ExecuteTime": {
     "end_time": "2023-03-03T00:12:00.577693Z",
     "start_time": "2023-03-03T00:12:00.053790Z"
    },
    "hidden": true
   },
   "outputs": [
    {
     "data": {
      "image/png": "[encoded data removed]",
      "text/plain": [
       "<Figure size 864x576 with 2 Axes>"
      ]
     },
     "metadata": {},
     "output_type": "display_data"
    }
   ],
   "source": [
    "plot_num(products, 'MntMeatProducts')"
   ]
  },
  {
   "cell_type": "markdown",
   "id": "f5c0a92f",
   "metadata": {
    "heading_collapsed": true,
    "hidden": true
   },
   "source": [
    "#### MntFishProducts"
   ]
  },
  {
   "cell_type": "code",
   "execution_count": 54,
   "id": "52b2076a",
   "metadata": {
    "ExecuteTime": {
     "end_time": "2023-03-03T00:12:01.154877Z",
     "start_time": "2023-03-03T00:12:00.589183Z"
    },
    "hidden": true
   },
   "outputs": [
    {
     "data": {
      "image/png": "[encoded data removed]",
      "text/plain": [
       "<Figure size 864x576 with 2 Axes>"
      ]
     },
     "metadata": {},
     "output_type": "display_data"
    }
   ],
   "source": [
    "plot_num(products, 'MntFishProducts')"
   ]
  },
  {
   "cell_type": "markdown",
   "id": "29873b57",
   "metadata": {
    "heading_collapsed": true,
    "hidden": true
   },
   "source": [
    "#### MntSweetProducts"
   ]
  },
  {
   "cell_type": "code",
   "execution_count": 55,
   "id": "a1ef91ff",
   "metadata": {
    "ExecuteTime": {
     "end_time": "2023-03-03T00:12:01.789935Z",
     "start_time": "2023-03-03T00:12:01.165942Z"
    },
    "hidden": true
   },
   "outputs": [
    {
     "data": {
      "image/png": "[encoded data removed]",
      "text/plain": [
       "<Figure size 864x576 with 2 Axes>"
      ]
     },
     "metadata": {},
     "output_type": "display_data"
    }
   ],
   "source": [
    "plot_num(products, 'MntSweetProducts')"
   ]
  },
  {
   "cell_type": "markdown",
   "id": "95292674",
   "metadata": {
    "heading_collapsed": true,
    "hidden": true
   },
   "source": [
    "#### MntGoldProds"
   ]
  },
  {
   "cell_type": "code",
   "execution_count": 56,
   "id": "3f9587df",
   "metadata": {
    "ExecuteTime": {
     "end_time": "2023-03-03T00:12:02.687199Z",
     "start_time": "2023-03-03T00:12:01.799729Z"
    },
    "hidden": true,
    "scrolled": true
   },
   "outputs": [
    {
     "data": {
      "image/png": "[encoded data removed]",
      "text/plain": [
       "<Figure size 864x576 with 2 Axes>"
      ]
     },
     "metadata": {},
     "output_type": "display_data"
    }
   ],
   "source": [
    "plot_num(products, 'MntGoldProds')"
   ]
  },
  {
   "cell_type": "markdown",
   "id": "e9134466",
   "metadata": {
    "heading_collapsed": true,
    "hidden": true
   },
   "source": [
    "#### TotalAmountSpent *"
   ]
  },
  {
   "cell_type": "markdown",
   "id": "ce4f2b4c",
   "metadata": {
    "hidden": true
   },
   "source": [
    "Criando a coluna `TotalAmountSpent`, correspondente ao total de produtos consumidos."
   ]
  },
  {
   "cell_type": "code",
   "execution_count": 57,
   "id": "34fe62a8",
   "metadata": {
    "ExecuteTime": {
     "end_time": "2023-03-03T00:12:02.708639Z",
     "start_time": "2023-03-03T00:12:02.699469Z"
    },
    "hidden": true
   },
   "outputs": [],
   "source": [
    "products['TotalAmountSpent'] = products.MntFishProducts + products.MntFruits + products.MntGoldProds \\\n",
    "    + products.MntMeatProducts + products.MntSweetProducts + products.MntWines"
   ]
  },
  {
   "cell_type": "markdown",
   "id": "713d8a1d",
   "metadata": {
    "hidden": true
   },
   "source": [
    "Transformando as variáveis de produtos em porcentagem, resultando na porcentagem de cada categoria."
   ]
  },
  {
   "cell_type": "code",
   "execution_count": 58,
   "id": "bd72d5a4",
   "metadata": {
    "ExecuteTime": {
     "end_time": "2023-03-03T00:12:02.765809Z",
     "start_time": "2023-03-03T00:12:02.712468Z"
    },
    "hidden": true
   },
   "outputs": [],
   "source": [
    "products.MntFishProducts = products.MntFishProducts / \\\n",
    "    products['TotalAmountSpent']\n",
    "products.MntFruits = products.MntFruits/products['TotalAmountSpent']\n",
    "products.MntGoldProds = products.MntGoldProds/products['TotalAmountSpent']\n",
    "products.MntMeatProducts = products.MntMeatProducts / \\\n",
    "    products['TotalAmountSpent']\n",
    "products.MntSweetProducts = products.MntSweetProducts / \\\n",
    "    products['TotalAmountSpent']\n",
    "products.MntWines = products.MntWines/products['TotalAmountSpent']"
   ]
  },
  {
   "cell_type": "markdown",
   "id": "712563eb",
   "metadata": {
    "heading_collapsed": true,
    "hidden": true
   },
   "source": [
    "#### Visão geral das variáveis relacionadas aos produtos"
   ]
  },
  {
   "cell_type": "code",
   "execution_count": 59,
   "id": "1aa702a7",
   "metadata": {
    "ExecuteTime": {
     "end_time": "2023-03-03T00:12:02.798494Z",
     "start_time": "2023-03-03T00:12:02.769568Z"
    },
    "hidden": true
   },
   "outputs": [
    {
     "data": {
      "text/html": [
       "<div>\n",
       "<style scoped>\n",
       "    .dataframe tbody tr th:only-of-type {\n",
       "        vertical-align: middle;\n",
       "    }\n",
       "\n",
       "    .dataframe tbody tr th {\n",
       "        vertical-align: top;\n",
       "    }\n",
       "\n",
       "    .dataframe thead th {\n",
       "        text-align: right;\n",
       "    }\n",
       "</style>\n",
       "<table border=\"1\" class=\"dataframe\">\n",
       "  <thead>\n",
       "    <tr style=\"text-align: right;\">\n",
       "      <th></th>\n",
       "      <th>ID</th>\n",
       "      <th>MntWines</th>\n",
       "      <th>MntFruits</th>\n",
       "      <th>MntMeatProducts</th>\n",
       "      <th>MntFishProducts</th>\n",
       "      <th>MntSweetProducts</th>\n",
       "      <th>MntGoldProds</th>\n",
       "      <th>TotalAmountSpent</th>\n",
       "    </tr>\n",
       "  </thead>\n",
       "  <tbody>\n",
       "    <tr>\n",
       "      <th>0</th>\n",
       "      <td>5524</td>\n",
       "      <td>0.392703</td>\n",
       "      <td>0.054422</td>\n",
       "      <td>0.337662</td>\n",
       "      <td>0.106370</td>\n",
       "      <td>0.054422</td>\n",
       "      <td>0.054422</td>\n",
       "      <td>1617</td>\n",
       "    </tr>\n",
       "    <tr>\n",
       "      <th>1</th>\n",
       "      <td>2174</td>\n",
       "      <td>0.407407</td>\n",
       "      <td>0.037037</td>\n",
       "      <td>0.222222</td>\n",
       "      <td>0.074074</td>\n",
       "      <td>0.037037</td>\n",
       "      <td>0.222222</td>\n",
       "      <td>27</td>\n",
       "    </tr>\n",
       "    <tr>\n",
       "      <th>2</th>\n",
       "      <td>4141</td>\n",
       "      <td>0.548969</td>\n",
       "      <td>0.063144</td>\n",
       "      <td>0.163660</td>\n",
       "      <td>0.143041</td>\n",
       "      <td>0.027062</td>\n",
       "      <td>0.054124</td>\n",
       "      <td>776</td>\n",
       "    </tr>\n",
       "    <tr>\n",
       "      <th>3</th>\n",
       "      <td>6182</td>\n",
       "      <td>0.207547</td>\n",
       "      <td>0.075472</td>\n",
       "      <td>0.377358</td>\n",
       "      <td>0.188679</td>\n",
       "      <td>0.056604</td>\n",
       "      <td>0.094340</td>\n",
       "      <td>53</td>\n",
       "    </tr>\n",
       "    <tr>\n",
       "      <th>4</th>\n",
       "      <td>5324</td>\n",
       "      <td>0.409953</td>\n",
       "      <td>0.101896</td>\n",
       "      <td>0.279621</td>\n",
       "      <td>0.109005</td>\n",
       "      <td>0.063981</td>\n",
       "      <td>0.035545</td>\n",
       "      <td>422</td>\n",
       "    </tr>\n",
       "  </tbody>\n",
       "</table>\n",
       "</div>"
      ],
      "text/plain": [
       "     ID  MntWines  MntFruits  MntMeatProducts  MntFishProducts  MntSweetProducts  MntGoldProds  TotalAmountSpent\n",
       "0  5524  0.392703   0.054422         0.337662         0.106370          0.054422      0.054422              1617\n",
       "1  2174  0.407407   0.037037         0.222222         0.074074          0.037037      0.222222                27\n",
       "2  4141  0.548969   0.063144         0.163660         0.143041          0.027062      0.054124               776\n",
       "3  6182  0.207547   0.075472         0.377358         0.188679          0.056604      0.094340                53\n",
       "4  5324  0.409953   0.101896         0.279621         0.109005          0.063981      0.035545               422"
      ]
     },
     "execution_count": 59,
     "metadata": {},
     "output_type": "execute_result"
    }
   ],
   "source": [
    "products.head()"
   ]
  },
  {
   "cell_type": "markdown",
   "id": "df46a55d",
   "metadata": {
    "heading_collapsed": true,
    "hidden": true
   },
   "source": [
    "### Dados de promoção"
   ]
  },
  {
   "cell_type": "markdown",
   "id": "e04ac38b",
   "metadata": {
    "hidden": true
   },
   "source": [
    "Conferindo se a variável vai de 0 a 1."
   ]
  },
  {
   "cell_type": "code",
   "execution_count": 60,
   "id": "beef6c73",
   "metadata": {
    "ExecuteTime": {
     "end_time": "2023-03-03T00:12:02.868197Z",
     "start_time": "2023-03-03T00:12:02.802094Z"
    },
    "hidden": true
   },
   "outputs": [
    {
     "data": {
      "text/html": [
       "<div>\n",
       "<style scoped>\n",
       "    .dataframe tbody tr th:only-of-type {\n",
       "        vertical-align: middle;\n",
       "    }\n",
       "\n",
       "    .dataframe tbody tr th {\n",
       "        vertical-align: top;\n",
       "    }\n",
       "\n",
       "    .dataframe thead th {\n",
       "        text-align: right;\n",
       "    }\n",
       "</style>\n",
       "<table border=\"1\" class=\"dataframe\">\n",
       "  <thead>\n",
       "    <tr style=\"text-align: right;\">\n",
       "      <th></th>\n",
       "      <th>ID</th>\n",
       "      <th>AcceptedCmp1</th>\n",
       "      <th>AcceptedCmp2</th>\n",
       "      <th>AcceptedCmp3</th>\n",
       "      <th>AcceptedCmp4</th>\n",
       "      <th>AcceptedCmp5</th>\n",
       "      <th>Response</th>\n",
       "    </tr>\n",
       "  </thead>\n",
       "  <tbody>\n",
       "    <tr>\n",
       "      <th>count</th>\n",
       "      <td>2240.000000</td>\n",
       "      <td>2240.000000</td>\n",
       "      <td>2240.000000</td>\n",
       "      <td>2240.000000</td>\n",
       "      <td>2240.000000</td>\n",
       "      <td>2240.000000</td>\n",
       "      <td>2240.000000</td>\n",
       "    </tr>\n",
       "    <tr>\n",
       "      <th>mean</th>\n",
       "      <td>5592.159821</td>\n",
       "      <td>0.064286</td>\n",
       "      <td>0.013393</td>\n",
       "      <td>0.072768</td>\n",
       "      <td>0.074554</td>\n",
       "      <td>0.072768</td>\n",
       "      <td>0.149107</td>\n",
       "    </tr>\n",
       "    <tr>\n",
       "      <th>std</th>\n",
       "      <td>3246.662198</td>\n",
       "      <td>0.245316</td>\n",
       "      <td>0.114976</td>\n",
       "      <td>0.259813</td>\n",
       "      <td>0.262728</td>\n",
       "      <td>0.259813</td>\n",
       "      <td>0.356274</td>\n",
       "    </tr>\n",
       "    <tr>\n",
       "      <th>min</th>\n",
       "      <td>0.000000</td>\n",
       "      <td>0.000000</td>\n",
       "      <td>0.000000</td>\n",
       "      <td>0.000000</td>\n",
       "      <td>0.000000</td>\n",
       "      <td>0.000000</td>\n",
       "      <td>0.000000</td>\n",
       "    </tr>\n",
       "    <tr>\n",
       "      <th>25%</th>\n",
       "      <td>2828.250000</td>\n",
       "      <td>0.000000</td>\n",
       "      <td>0.000000</td>\n",
       "      <td>0.000000</td>\n",
       "      <td>0.000000</td>\n",
       "      <td>0.000000</td>\n",
       "      <td>0.000000</td>\n",
       "    </tr>\n",
       "    <tr>\n",
       "      <th>50%</th>\n",
       "      <td>5458.500000</td>\n",
       "      <td>0.000000</td>\n",
       "      <td>0.000000</td>\n",
       "      <td>0.000000</td>\n",
       "      <td>0.000000</td>\n",
       "      <td>0.000000</td>\n",
       "      <td>0.000000</td>\n",
       "    </tr>\n",
       "    <tr>\n",
       "      <th>75%</th>\n",
       "      <td>8427.750000</td>\n",
       "      <td>0.000000</td>\n",
       "      <td>0.000000</td>\n",
       "      <td>0.000000</td>\n",
       "      <td>0.000000</td>\n",
       "      <td>0.000000</td>\n",
       "      <td>0.000000</td>\n",
       "    </tr>\n",
       "    <tr>\n",
       "      <th>max</th>\n",
       "      <td>11191.000000</td>\n",
       "      <td>1.000000</td>\n",
       "      <td>1.000000</td>\n",
       "      <td>1.000000</td>\n",
       "      <td>1.000000</td>\n",
       "      <td>1.000000</td>\n",
       "      <td>1.000000</td>\n",
       "    </tr>\n",
       "  </tbody>\n",
       "</table>\n",
       "</div>"
      ],
      "text/plain": [
       "                 ID  AcceptedCmp1  AcceptedCmp2  AcceptedCmp3  AcceptedCmp4  AcceptedCmp5     Response\n",
       "count   2240.000000   2240.000000   2240.000000   2240.000000   2240.000000   2240.000000  2240.000000\n",
       "mean    5592.159821      0.064286      0.013393      0.072768      0.074554      0.072768     0.149107\n",
       "std     3246.662198      0.245316      0.114976      0.259813      0.262728      0.259813     0.356274\n",
       "min        0.000000      0.000000      0.000000      0.000000      0.000000      0.000000     0.000000\n",
       "25%     2828.250000      0.000000      0.000000      0.000000      0.000000      0.000000     0.000000\n",
       "50%     5458.500000      0.000000      0.000000      0.000000      0.000000      0.000000     0.000000\n",
       "75%     8427.750000      0.000000      0.000000      0.000000      0.000000      0.000000     0.000000\n",
       "max    11191.000000      1.000000      1.000000      1.000000      1.000000      1.000000     1.000000"
      ]
     },
     "execution_count": 60,
     "metadata": {},
     "output_type": "execute_result"
    }
   ],
   "source": [
    "promotion.describe()"
   ]
  },
  {
   "cell_type": "markdown",
   "id": "a177be80",
   "metadata": {
    "heading_collapsed": true,
    "hidden": true
   },
   "source": [
    "#### AcceptedCmp *"
   ]
  },
  {
   "cell_type": "markdown",
   "id": "cdc8edd4",
   "metadata": {
    "hidden": true
   },
   "source": [
    "Criando a coluna `AcceptedCmp`, que corresponde a soma de todas as variáveis de promoção/campanha."
   ]
  },
  {
   "cell_type": "code",
   "execution_count": 61,
   "id": "e668f3b3",
   "metadata": {
    "ExecuteTime": {
     "end_time": "2023-03-03T00:12:02.883178Z",
     "start_time": "2023-03-03T00:12:02.872442Z"
    },
    "hidden": true
   },
   "outputs": [],
   "source": [
    "promotion['AcceptedCmp'] = promotion.AcceptedCmp1 + promotion.AcceptedCmp2 + promotion.AcceptedCmp3 + promotion.AcceptedCmp4 + \\\n",
    "    promotion.AcceptedCmp5 + promotion.Response"
   ]
  },
  {
   "cell_type": "markdown",
   "id": "4d8032f1",
   "metadata": {
    "hidden": true
   },
   "source": [
    "Checando a distribuição."
   ]
  },
  {
   "cell_type": "code",
   "execution_count": 62,
   "id": "09a11b83",
   "metadata": {
    "ExecuteTime": {
     "end_time": "2023-03-03T00:12:03.506929Z",
     "start_time": "2023-03-03T00:12:02.887610Z"
    },
    "hidden": true
   },
   "outputs": [
    {
     "data": {
      "image/png": "[encoded data removed]",
      "text/plain": [
       "<Figure size 864x576 with 1 Axes>"
      ]
     },
     "metadata": {},
     "output_type": "display_data"
    }
   ],
   "source": [
    "plot_cat(promotion, 'AcceptedCmp')"
   ]
  },
  {
   "cell_type": "code",
   "execution_count": 63,
   "id": "fc4b22b6",
   "metadata": {
    "ExecuteTime": {
     "end_time": "2023-03-03T00:12:03.521530Z",
     "start_time": "2023-03-03T00:12:03.511855Z"
    },
    "hidden": true
   },
   "outputs": [],
   "source": [
    "promotion = promotion[['ID', 'AcceptedCmp']]"
   ]
  },
  {
   "cell_type": "markdown",
   "id": "c9b763df",
   "metadata": {
    "hidden": true
   },
   "source": [
    "#### Visão geral das variáveis relacionadas aos clientes"
   ]
  },
  {
   "cell_type": "code",
   "execution_count": 64,
   "id": "78f3e662",
   "metadata": {
    "ExecuteTime": {
     "end_time": "2023-03-03T00:12:03.577859Z",
     "start_time": "2023-03-03T00:12:03.529717Z"
    },
    "hidden": true
   },
   "outputs": [
    {
     "data": {
      "text/html": [
       "<div>\n",
       "<style scoped>\n",
       "    .dataframe tbody tr th:only-of-type {\n",
       "        vertical-align: middle;\n",
       "    }\n",
       "\n",
       "    .dataframe tbody tr th {\n",
       "        vertical-align: top;\n",
       "    }\n",
       "\n",
       "    .dataframe thead th {\n",
       "        text-align: right;\n",
       "    }\n",
       "</style>\n",
       "<table border=\"1\" class=\"dataframe\">\n",
       "  <thead>\n",
       "    <tr style=\"text-align: right;\">\n",
       "      <th></th>\n",
       "      <th>ID</th>\n",
       "      <th>AcceptedCmp</th>\n",
       "    </tr>\n",
       "  </thead>\n",
       "  <tbody>\n",
       "    <tr>\n",
       "      <th>0</th>\n",
       "      <td>5524</td>\n",
       "      <td>1</td>\n",
       "    </tr>\n",
       "    <tr>\n",
       "      <th>1</th>\n",
       "      <td>2174</td>\n",
       "      <td>0</td>\n",
       "    </tr>\n",
       "    <tr>\n",
       "      <th>2</th>\n",
       "      <td>4141</td>\n",
       "      <td>0</td>\n",
       "    </tr>\n",
       "    <tr>\n",
       "      <th>3</th>\n",
       "      <td>6182</td>\n",
       "      <td>0</td>\n",
       "    </tr>\n",
       "    <tr>\n",
       "      <th>4</th>\n",
       "      <td>5324</td>\n",
       "      <td>0</td>\n",
       "    </tr>\n",
       "  </tbody>\n",
       "</table>\n",
       "</div>"
      ],
      "text/plain": [
       "     ID  AcceptedCmp\n",
       "0  5524            1\n",
       "1  2174            0\n",
       "2  4141            0\n",
       "3  6182            0\n",
       "4  5324            0"
      ]
     },
     "execution_count": 64,
     "metadata": {},
     "output_type": "execute_result"
    }
   ],
   "source": [
    "promotion.head()"
   ]
  },
  {
   "cell_type": "markdown",
   "id": "69730dfb",
   "metadata": {
    "heading_collapsed": true,
    "hidden": true
   },
   "source": [
    "### Dados de local de compra"
   ]
  },
  {
   "cell_type": "markdown",
   "id": "db8f8493",
   "metadata": {
    "hidden": true
   },
   "source": [
    "Criando a coluna nova `TotalPurchases`, que corresponde à soma das variáveis `NumWebPurchases`, `NumCatalogPurchases` e `NumStorePurchases`."
   ]
  },
  {
   "cell_type": "markdown",
   "id": "9612f78f",
   "metadata": {
    "heading_collapsed": true,
    "hidden": true
   },
   "source": [
    "#### TotalPurchases *"
   ]
  },
  {
   "cell_type": "markdown",
   "id": "b4a28bd8",
   "metadata": {
    "hidden": true
   },
   "source": [
    "Juntando colunas correspondentes às compras dos clientes em `TotalPurchases`.\n",
    "\n",
    "Obs: as colunas `NumDealsPurchases` (descontos) e `NumWebVisitsMonth`(visitas web) foram deixadas de fora."
   ]
  },
  {
   "cell_type": "code",
   "execution_count": 65,
   "id": "659310c6",
   "metadata": {
    "ExecuteTime": {
     "end_time": "2023-03-03T00:12:03.595111Z",
     "start_time": "2023-03-03T00:12:03.583482Z"
    },
    "hidden": true
   },
   "outputs": [],
   "source": [
    "place['TotalPurchases'] = place.NumWebPurchases + \\\n",
    "    place.NumCatalogPurchases + place.NumStorePurchases"
   ]
  },
  {
   "cell_type": "markdown",
   "id": "7f4adb75",
   "metadata": {
    "hidden": true
   },
   "source": [
    "Checando a distribuição."
   ]
  },
  {
   "cell_type": "code",
   "execution_count": 66,
   "id": "a726d003",
   "metadata": {
    "ExecuteTime": {
     "end_time": "2023-03-03T00:20:36.019285Z",
     "start_time": "2023-03-03T00:20:35.954862Z"
    },
    "hidden": true,
    "scrolled": true
   },
   "outputs": [
    {
     "data": {
      "text/html": [
       "<div>\n",
       "<style scoped>\n",
       "    .dataframe tbody tr th:only-of-type {\n",
       "        vertical-align: middle;\n",
       "    }\n",
       "\n",
       "    .dataframe tbody tr th {\n",
       "        vertical-align: top;\n",
       "    }\n",
       "\n",
       "    .dataframe thead th {\n",
       "        text-align: right;\n",
       "    }\n",
       "</style>\n",
       "<table border=\"1\" class=\"dataframe\">\n",
       "  <thead>\n",
       "    <tr style=\"text-align: right;\">\n",
       "      <th></th>\n",
       "      <th>ID</th>\n",
       "      <th>NumWebPurchases</th>\n",
       "      <th>NumCatalogPurchases</th>\n",
       "      <th>NumStorePurchases</th>\n",
       "      <th>NumDealsPurchases</th>\n",
       "      <th>NumWebVisitsMonth</th>\n",
       "      <th>TotalPurchases</th>\n",
       "    </tr>\n",
       "  </thead>\n",
       "  <tbody>\n",
       "    <tr>\n",
       "      <th>count</th>\n",
       "      <td>2240.000000</td>\n",
       "      <td>2240.000000</td>\n",
       "      <td>2240.000000</td>\n",
       "      <td>2240.000000</td>\n",
       "      <td>2240.000000</td>\n",
       "      <td>2240.000000</td>\n",
       "      <td>2240.000000</td>\n",
       "    </tr>\n",
       "    <tr>\n",
       "      <th>mean</th>\n",
       "      <td>5592.159821</td>\n",
       "      <td>4.084821</td>\n",
       "      <td>2.662054</td>\n",
       "      <td>5.790179</td>\n",
       "      <td>2.325000</td>\n",
       "      <td>5.316518</td>\n",
       "      <td>12.537054</td>\n",
       "    </tr>\n",
       "    <tr>\n",
       "      <th>std</th>\n",
       "      <td>3246.662198</td>\n",
       "      <td>2.778714</td>\n",
       "      <td>2.923101</td>\n",
       "      <td>3.250958</td>\n",
       "      <td>1.932238</td>\n",
       "      <td>2.426645</td>\n",
       "      <td>7.205741</td>\n",
       "    </tr>\n",
       "    <tr>\n",
       "      <th>min</th>\n",
       "      <td>0.000000</td>\n",
       "      <td>0.000000</td>\n",
       "      <td>0.000000</td>\n",
       "      <td>0.000000</td>\n",
       "      <td>0.000000</td>\n",
       "      <td>0.000000</td>\n",
       "      <td>0.000000</td>\n",
       "    </tr>\n",
       "    <tr>\n",
       "      <th>25%</th>\n",
       "      <td>2828.250000</td>\n",
       "      <td>2.000000</td>\n",
       "      <td>0.000000</td>\n",
       "      <td>3.000000</td>\n",
       "      <td>1.000000</td>\n",
       "      <td>3.000000</td>\n",
       "      <td>6.000000</td>\n",
       "    </tr>\n",
       "    <tr>\n",
       "      <th>50%</th>\n",
       "      <td>5458.500000</td>\n",
       "      <td>4.000000</td>\n",
       "      <td>2.000000</td>\n",
       "      <td>5.000000</td>\n",
       "      <td>2.000000</td>\n",
       "      <td>6.000000</td>\n",
       "      <td>12.000000</td>\n",
       "    </tr>\n",
       "    <tr>\n",
       "      <th>75%</th>\n",
       "      <td>8427.750000</td>\n",
       "      <td>6.000000</td>\n",
       "      <td>4.000000</td>\n",
       "      <td>8.000000</td>\n",
       "      <td>3.000000</td>\n",
       "      <td>7.000000</td>\n",
       "      <td>18.000000</td>\n",
       "    </tr>\n",
       "    <tr>\n",
       "      <th>max</th>\n",
       "      <td>11191.000000</td>\n",
       "      <td>27.000000</td>\n",
       "      <td>28.000000</td>\n",
       "      <td>13.000000</td>\n",
       "      <td>15.000000</td>\n",
       "      <td>20.000000</td>\n",
       "      <td>32.000000</td>\n",
       "    </tr>\n",
       "  </tbody>\n",
       "</table>\n",
       "</div>"
      ],
      "text/plain": [
       "                 ID  NumWebPurchases  NumCatalogPurchases  NumStorePurchases  NumDealsPurchases  NumWebVisitsMonth  TotalPurchases\n",
       "count   2240.000000      2240.000000          2240.000000        2240.000000        2240.000000        2240.000000     2240.000000\n",
       "mean    5592.159821         4.084821             2.662054           5.790179           2.325000           5.316518       12.537054\n",
       "std     3246.662198         2.778714             2.923101           3.250958           1.932238           2.426645        7.205741\n",
       "min        0.000000         0.000000             0.000000           0.000000           0.000000           0.000000        0.000000\n",
       "25%     2828.250000         2.000000             0.000000           3.000000           1.000000           3.000000        6.000000\n",
       "50%     5458.500000         4.000000             2.000000           5.000000           2.000000           6.000000       12.000000\n",
       "75%     8427.750000         6.000000             4.000000           8.000000           3.000000           7.000000       18.000000\n",
       "max    11191.000000        27.000000            28.000000          13.000000          15.000000          20.000000       32.000000"
      ]
     },
     "execution_count": 66,
     "metadata": {},
     "output_type": "execute_result"
    }
   ],
   "source": [
    "place.describe()"
   ]
  },
  {
   "cell_type": "markdown",
   "id": "ceab064f",
   "metadata": {
    "hidden": true
   },
   "source": [
    "É possível analisar que as colunas de compras são = 0, porém, há dados de desconto (`NumDealsPurchases`) em compras. Por esse motivo e por serem pouco numerosas, as linhas serão excluídas."
   ]
  },
  {
   "cell_type": "code",
   "execution_count": 69,
   "id": "3ceabcfd",
   "metadata": {
    "ExecuteTime": {
     "end_time": "2023-03-03T00:21:53.885355Z",
     "start_time": "2023-03-03T00:21:53.857495Z"
    },
    "hidden": true
   },
   "outputs": [
    {
     "data": {
      "text/html": [
       "<div>\n",
       "<style scoped>\n",
       "    .dataframe tbody tr th:only-of-type {\n",
       "        vertical-align: middle;\n",
       "    }\n",
       "\n",
       "    .dataframe tbody tr th {\n",
       "        vertical-align: top;\n",
       "    }\n",
       "\n",
       "    .dataframe thead th {\n",
       "        text-align: right;\n",
       "    }\n",
       "</style>\n",
       "<table border=\"1\" class=\"dataframe\">\n",
       "  <thead>\n",
       "    <tr style=\"text-align: right;\">\n",
       "      <th></th>\n",
       "      <th>ID</th>\n",
       "      <th>NumWebPurchases</th>\n",
       "      <th>NumCatalogPurchases</th>\n",
       "      <th>NumStorePurchases</th>\n",
       "      <th>NumDealsPurchases</th>\n",
       "      <th>NumWebVisitsMonth</th>\n",
       "      <th>TotalPurchases</th>\n",
       "    </tr>\n",
       "  </thead>\n",
       "  <tbody>\n",
       "    <tr>\n",
       "      <th>655</th>\n",
       "      <td>5555</td>\n",
       "      <td>0</td>\n",
       "      <td>0</td>\n",
       "      <td>0</td>\n",
       "      <td>0</td>\n",
       "      <td>0</td>\n",
       "      <td>0</td>\n",
       "    </tr>\n",
       "    <tr>\n",
       "      <th>981</th>\n",
       "      <td>3955</td>\n",
       "      <td>0</td>\n",
       "      <td>0</td>\n",
       "      <td>0</td>\n",
       "      <td>0</td>\n",
       "      <td>14</td>\n",
       "      <td>0</td>\n",
       "    </tr>\n",
       "    <tr>\n",
       "      <th>1245</th>\n",
       "      <td>6862</td>\n",
       "      <td>0</td>\n",
       "      <td>0</td>\n",
       "      <td>0</td>\n",
       "      <td>15</td>\n",
       "      <td>20</td>\n",
       "      <td>0</td>\n",
       "    </tr>\n",
       "    <tr>\n",
       "      <th>1524</th>\n",
       "      <td>11110</td>\n",
       "      <td>0</td>\n",
       "      <td>0</td>\n",
       "      <td>0</td>\n",
       "      <td>0</td>\n",
       "      <td>14</td>\n",
       "      <td>0</td>\n",
       "    </tr>\n",
       "    <tr>\n",
       "      <th>1846</th>\n",
       "      <td>9931</td>\n",
       "      <td>0</td>\n",
       "      <td>0</td>\n",
       "      <td>0</td>\n",
       "      <td>15</td>\n",
       "      <td>19</td>\n",
       "      <td>0</td>\n",
       "    </tr>\n",
       "    <tr>\n",
       "      <th>2132</th>\n",
       "      <td>11181</td>\n",
       "      <td>0</td>\n",
       "      <td>0</td>\n",
       "      <td>0</td>\n",
       "      <td>0</td>\n",
       "      <td>0</td>\n",
       "      <td>0</td>\n",
       "    </tr>\n",
       "  </tbody>\n",
       "</table>\n",
       "</div>"
      ],
      "text/plain": [
       "         ID  NumWebPurchases  NumCatalogPurchases  NumStorePurchases  NumDealsPurchases  NumWebVisitsMonth  TotalPurchases\n",
       "655    5555                0                    0                  0                  0                  0               0\n",
       "981    3955                0                    0                  0                  0                 14               0\n",
       "1245   6862                0                    0                  0                 15                 20               0\n",
       "1524  11110                0                    0                  0                  0                 14               0\n",
       "1846   9931                0                    0                  0                 15                 19               0\n",
       "2132  11181                0                    0                  0                  0                  0               0"
      ]
     },
     "execution_count": 69,
     "metadata": {},
     "output_type": "execute_result"
    }
   ],
   "source": [
    "place[place['TotalPurchases'] == 0]"
   ]
  },
  {
   "cell_type": "code",
   "execution_count": 70,
   "id": "153fd258",
   "metadata": {
    "ExecuteTime": {
     "end_time": "2023-03-03T00:32:09.846152Z",
     "start_time": "2023-03-03T00:32:09.834968Z"
    },
    "hidden": true
   },
   "outputs": [],
   "source": [
    "place = place[place['TotalPurchases'] > 0]"
   ]
  },
  {
   "cell_type": "markdown",
   "id": "a1dcc93f",
   "metadata": {
    "hidden": true
   },
   "source": [
    "Transformando as colunas em porcentagem."
   ]
  },
  {
   "cell_type": "code",
   "execution_count": 71,
   "id": "42e91024",
   "metadata": {
    "ExecuteTime": {
     "end_time": "2023-03-03T00:33:25.051443Z",
     "start_time": "2023-03-03T00:33:25.035150Z"
    },
    "hidden": true
   },
   "outputs": [],
   "source": [
    "place['NumWebPurchases'] = place['NumWebPurchases']/place['TotalPurchases']\n",
    "place['NumCatalogPurchases'] = place['NumCatalogPurchases'] / \\\n",
    "    place['TotalPurchases']\n",
    "place['NumStorePurchases'] = place['NumStorePurchases']/place['TotalPurchases']\n",
    "place['NumDealsPurchases'] = place['NumDealsPurchases']/place['TotalPurchases']"
   ]
  },
  {
   "cell_type": "markdown",
   "id": "4dc561d0",
   "metadata": {
    "hidden": true
   },
   "source": [
    "Verificando se há porcentagens acima de 100% (>1)."
   ]
  },
  {
   "cell_type": "code",
   "execution_count": 72,
   "id": "cd3c02e7",
   "metadata": {
    "ExecuteTime": {
     "end_time": "2023-03-03T00:34:19.356810Z",
     "start_time": "2023-03-03T00:34:19.265609Z"
    },
    "hidden": true,
    "scrolled": true
   },
   "outputs": [
    {
     "data": {
      "text/html": [
       "<div>\n",
       "<style scoped>\n",
       "    .dataframe tbody tr th:only-of-type {\n",
       "        vertical-align: middle;\n",
       "    }\n",
       "\n",
       "    .dataframe tbody tr th {\n",
       "        vertical-align: top;\n",
       "    }\n",
       "\n",
       "    .dataframe thead th {\n",
       "        text-align: right;\n",
       "    }\n",
       "</style>\n",
       "<table border=\"1\" class=\"dataframe\">\n",
       "  <thead>\n",
       "    <tr style=\"text-align: right;\">\n",
       "      <th></th>\n",
       "      <th>ID</th>\n",
       "      <th>NumWebPurchases</th>\n",
       "      <th>NumCatalogPurchases</th>\n",
       "      <th>NumStorePurchases</th>\n",
       "      <th>NumDealsPurchases</th>\n",
       "      <th>NumWebVisitsMonth</th>\n",
       "      <th>TotalPurchases</th>\n",
       "    </tr>\n",
       "  </thead>\n",
       "  <tbody>\n",
       "    <tr>\n",
       "      <th>count</th>\n",
       "      <td>2234.000000</td>\n",
       "      <td>2234.000000</td>\n",
       "      <td>2234.000000</td>\n",
       "      <td>2234.000000</td>\n",
       "      <td>2234.000000</td>\n",
       "      <td>2234.000000</td>\n",
       "      <td>2234.000000</td>\n",
       "    </tr>\n",
       "    <tr>\n",
       "      <th>mean</th>\n",
       "      <td>5585.427037</td>\n",
       "      <td>0.329874</td>\n",
       "      <td>0.164809</td>\n",
       "      <td>0.505317</td>\n",
       "      <td>0.247963</td>\n",
       "      <td>5.300806</td>\n",
       "      <td>12.570725</td>\n",
       "    </tr>\n",
       "    <tr>\n",
       "      <th>std</th>\n",
       "      <td>3245.168172</td>\n",
       "      <td>0.121858</td>\n",
       "      <td>0.140668</td>\n",
       "      <td>0.149485</td>\n",
       "      <td>0.356679</td>\n",
       "      <td>2.372957</td>\n",
       "      <td>7.186011</td>\n",
       "    </tr>\n",
       "    <tr>\n",
       "      <th>min</th>\n",
       "      <td>0.000000</td>\n",
       "      <td>0.000000</td>\n",
       "      <td>0.000000</td>\n",
       "      <td>0.000000</td>\n",
       "      <td>0.000000</td>\n",
       "      <td>0.000000</td>\n",
       "      <td>1.000000</td>\n",
       "    </tr>\n",
       "    <tr>\n",
       "      <th>25%</th>\n",
       "      <td>2817.750000</td>\n",
       "      <td>0.250000</td>\n",
       "      <td>0.000000</td>\n",
       "      <td>0.401852</td>\n",
       "      <td>0.083333</td>\n",
       "      <td>3.000000</td>\n",
       "      <td>6.000000</td>\n",
       "    </tr>\n",
       "    <tr>\n",
       "      <th>50%</th>\n",
       "      <td>5453.500000</td>\n",
       "      <td>0.333333</td>\n",
       "      <td>0.150000</td>\n",
       "      <td>0.500000</td>\n",
       "      <td>0.200000</td>\n",
       "      <td>6.000000</td>\n",
       "      <td>12.000000</td>\n",
       "    </tr>\n",
       "    <tr>\n",
       "      <th>75%</th>\n",
       "      <td>8419.500000</td>\n",
       "      <td>0.400000</td>\n",
       "      <td>0.250000</td>\n",
       "      <td>0.600000</td>\n",
       "      <td>0.333333</td>\n",
       "      <td>7.000000</td>\n",
       "      <td>18.000000</td>\n",
       "    </tr>\n",
       "    <tr>\n",
       "      <th>max</th>\n",
       "      <td>11191.000000</td>\n",
       "      <td>1.000000</td>\n",
       "      <td>1.000000</td>\n",
       "      <td>1.000000</td>\n",
       "      <td>15.000000</td>\n",
       "      <td>20.000000</td>\n",
       "      <td>32.000000</td>\n",
       "    </tr>\n",
       "  </tbody>\n",
       "</table>\n",
       "</div>"
      ],
      "text/plain": [
       "                 ID  NumWebPurchases  NumCatalogPurchases  NumStorePurchases  NumDealsPurchases  NumWebVisitsMonth  TotalPurchases\n",
       "count   2234.000000      2234.000000          2234.000000        2234.000000        2234.000000        2234.000000     2234.000000\n",
       "mean    5585.427037         0.329874             0.164809           0.505317           0.247963           5.300806       12.570725\n",
       "std     3245.168172         0.121858             0.140668           0.149485           0.356679           2.372957        7.186011\n",
       "min        0.000000         0.000000             0.000000           0.000000           0.000000           0.000000        1.000000\n",
       "25%     2817.750000         0.250000             0.000000           0.401852           0.083333           3.000000        6.000000\n",
       "50%     5453.500000         0.333333             0.150000           0.500000           0.200000           6.000000       12.000000\n",
       "75%     8419.500000         0.400000             0.250000           0.600000           0.333333           7.000000       18.000000\n",
       "max    11191.000000         1.000000             1.000000           1.000000          15.000000          20.000000       32.000000"
      ]
     },
     "execution_count": 72,
     "metadata": {},
     "output_type": "execute_result"
    }
   ],
   "source": [
    "place.describe()"
   ]
  },
  {
   "cell_type": "code",
   "execution_count": 73,
   "id": "45080816",
   "metadata": {
    "ExecuteTime": {
     "end_time": "2023-03-03T00:35:36.254115Z",
     "start_time": "2023-03-03T00:35:36.228686Z"
    },
    "hidden": true
   },
   "outputs": [
    {
     "data": {
      "text/html": [
       "<div>\n",
       "<style scoped>\n",
       "    .dataframe tbody tr th:only-of-type {\n",
       "        vertical-align: middle;\n",
       "    }\n",
       "\n",
       "    .dataframe tbody tr th {\n",
       "        vertical-align: top;\n",
       "    }\n",
       "\n",
       "    .dataframe thead th {\n",
       "        text-align: right;\n",
       "    }\n",
       "</style>\n",
       "<table border=\"1\" class=\"dataframe\">\n",
       "  <thead>\n",
       "    <tr style=\"text-align: right;\">\n",
       "      <th></th>\n",
       "      <th>ID</th>\n",
       "      <th>NumWebPurchases</th>\n",
       "      <th>NumCatalogPurchases</th>\n",
       "      <th>NumStorePurchases</th>\n",
       "      <th>NumDealsPurchases</th>\n",
       "      <th>NumWebVisitsMonth</th>\n",
       "      <th>TotalPurchases</th>\n",
       "    </tr>\n",
       "  </thead>\n",
       "  <tbody>\n",
       "    <tr>\n",
       "      <th>1042</th>\n",
       "      <td>10749</td>\n",
       "      <td>0.0</td>\n",
       "      <td>1.0</td>\n",
       "      <td>0.0</td>\n",
       "      <td>15.0</td>\n",
       "      <td>19</td>\n",
       "      <td>1</td>\n",
       "    </tr>\n",
       "  </tbody>\n",
       "</table>\n",
       "</div>"
      ],
      "text/plain": [
       "         ID  NumWebPurchases  NumCatalogPurchases  NumStorePurchases  NumDealsPurchases  NumWebVisitsMonth  TotalPurchases\n",
       "1042  10749              0.0                  1.0                0.0               15.0                 19               1"
      ]
     },
     "execution_count": 73,
     "metadata": {},
     "output_type": "execute_result"
    }
   ],
   "source": [
    "place[place.NumDealsPurchases > 1]"
   ]
  },
  {
   "cell_type": "code",
   "execution_count": 75,
   "id": "c5d3485c",
   "metadata": {
    "ExecuteTime": {
     "end_time": "2023-03-03T00:35:51.475502Z",
     "start_time": "2023-03-03T00:35:51.464224Z"
    },
    "hidden": true
   },
   "outputs": [],
   "source": [
    "place = place[place['NumDealsPurchases'] <= 1]"
   ]
  },
  {
   "cell_type": "markdown",
   "id": "2cbba0d2",
   "metadata": {
    "heading_collapsed": true,
    "hidden": true
   },
   "source": [
    "#### NumWebVisitsMont"
   ]
  },
  {
   "cell_type": "code",
   "execution_count": 76,
   "id": "d3804a23",
   "metadata": {
    "ExecuteTime": {
     "end_time": "2023-03-03T00:36:46.974937Z",
     "start_time": "2023-03-03T00:36:46.497286Z"
    },
    "hidden": true
   },
   "outputs": [
    {
     "data": {
      "image/png": "[encoded data removed]",
      "text/plain": [
       "<Figure size 864x576 with 2 Axes>"
      ]
     },
     "metadata": {},
     "output_type": "display_data"
    }
   ],
   "source": [
    "plot_num(place, 'NumWebVisitsMonth')"
   ]
  },
  {
   "cell_type": "markdown",
   "id": "3018f4b4",
   "metadata": {
    "hidden": true
   },
   "source": [
    "Verificou-se a presença de outliers, no entanto, pouco numerosos e como a variável representa o número de visitas web por mês, o cliente pode ser considerado de alto valor."
   ]
  },
  {
   "cell_type": "markdown",
   "id": "be4aab8d",
   "metadata": {
    "heading_collapsed": true,
    "hidden": true
   },
   "source": [
    "### Juntando os dados analisados e tratados"
   ]
  },
  {
   "cell_type": "code",
   "execution_count": 77,
   "id": "9a7b7d9f",
   "metadata": {
    "ExecuteTime": {
     "end_time": "2023-03-03T00:40:32.210405Z",
     "start_time": "2023-03-03T00:40:32.200256Z"
    },
    "hidden": true
   },
   "outputs": [],
   "source": [
    "df_lista = [people, products, promotion, place]"
   ]
  },
  {
   "cell_type": "code",
   "execution_count": 78,
   "id": "b95eeef0",
   "metadata": {
    "ExecuteTime": {
     "end_time": "2023-03-03T00:41:15.173520Z",
     "start_time": "2023-03-03T00:41:15.056873Z"
    },
    "hidden": true
   },
   "outputs": [],
   "source": [
    "df_final = reduce(lambda df1, df2: pd.merge(df1, df2, on='ID'), df_lista)"
   ]
  },
  {
   "cell_type": "code",
   "execution_count": 81,
   "id": "4eef06f4",
   "metadata": {
    "ExecuteTime": {
     "end_time": "2023-03-03T00:46:06.064907Z",
     "start_time": "2023-03-03T00:46:06.051654Z"
    },
    "hidden": true
   },
   "outputs": [],
   "source": [
    "df_final.drop(columns=['ID'], inplace=True)"
   ]
  },
  {
   "cell_type": "code",
   "execution_count": 82,
   "id": "f98bfc98",
   "metadata": {
    "ExecuteTime": {
     "end_time": "2023-03-03T00:46:08.382432Z",
     "start_time": "2023-03-03T00:46:08.363390Z"
    },
    "hidden": true
   },
   "outputs": [
    {
     "data": {
      "text/plain": [
       "(2203, 24)"
      ]
     },
     "execution_count": 82,
     "metadata": {},
     "output_type": "execute_result"
    }
   ],
   "source": [
    "df_final.shape"
   ]
  },
  {
   "cell_type": "code",
   "execution_count": 83,
   "id": "e05792b9",
   "metadata": {
    "ExecuteTime": {
     "end_time": "2023-03-03T00:46:10.290840Z",
     "start_time": "2023-03-03T00:46:10.278083Z"
    },
    "hidden": true
   },
   "outputs": [
    {
     "data": {
      "text/plain": [
       "Index(['Year_Birth', 'Education', 'Income', 'Recency',\n",
       "       'Marital_Status_Divorced', 'Marital_Status_Single',\n",
       "       'Marital_Status_Together', 'Marital_Status_Widow', 'ChildrenHome',\n",
       "       'LifeTime', 'MntWines', 'MntFruits', 'MntMeatProducts',\n",
       "       'MntFishProducts', 'MntSweetProducts', 'MntGoldProds',\n",
       "       'TotalAmountSpent', 'AcceptedCmp', 'NumWebPurchases',\n",
       "       'NumCatalogPurchases', 'NumStorePurchases', 'NumDealsPurchases',\n",
       "       'NumWebVisitsMonth', 'TotalPurchases'],\n",
       "      dtype='object')"
      ]
     },
     "execution_count": 83,
     "metadata": {},
     "output_type": "execute_result"
    }
   ],
   "source": [
    "df_final.columns"
   ]
  },
  {
   "cell_type": "markdown",
   "id": "52c6e562",
   "metadata": {},
   "source": [
    "# Data Preparation"
   ]
  },
  {
   "cell_type": "code",
   "execution_count": null,
   "id": "f4531f46",
   "metadata": {},
   "outputs": [],
   "source": []
  },
  {
   "cell_type": "code",
   "execution_count": null,
   "id": "a3957e43",
   "metadata": {},
   "outputs": [],
   "source": []
  },
  {
   "cell_type": "code",
   "execution_count": null,
   "id": "def6f30e",
   "metadata": {},
   "outputs": [],
   "source": []
  }
 ],
 "metadata": {
  "kernelspec": {
   "display_name": "Python 3 (ipykernel)",
   "language": "python",
   "name": "python3"
  },
  "language_info": {
   "codemirror_mode": {
    "name": "ipython",
    "version": 3
   },
   "file_extension": ".py",
   "mimetype": "text/x-python",
   "name": "python",
   "nbconvert_exporter": "python",
   "pygments_lexer": "ipython3",
   "version": "3.10.6"
  },
  "varInspector": {
   "cols": {
    "lenName": 16,
    "lenType": 16,
    "lenVar": 40
   },
   "kernels_config": {
    "python": {
     "delete_cmd_postfix": "",
     "delete_cmd_prefix": "del ",
     "library": "var_list.py",
     "varRefreshCmd": "print(var_dic_list())"
    },
    "r": {
     "delete_cmd_postfix": ") ",
     "delete_cmd_prefix": "rm(",
     "library": "var_list.r",
     "varRefreshCmd": "cat(var_dic_list()) "
    }
   },
   "types_to_exclude": [
    "module",
    "function",
    "builtin_function_or_method",
    "instance",
    "_Feature"
   ],
   "window_display": false
  }
 },
 "nbformat": 4,
 "nbformat_minor": 5
}
